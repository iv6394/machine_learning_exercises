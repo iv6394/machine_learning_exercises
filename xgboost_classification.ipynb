{
 "cells": [
  {
   "cell_type": "code",
   "execution_count": 18,
   "metadata": {},
   "outputs": [],
   "source": [
    "import xgboost\n",
    "import graphviz\n",
    "import numpy as np\n",
    "import pandas as pd\n",
    "%matplotlib inline\n",
    "%config InlineBackend.figure_format = 'retina'"
   ]
  },
  {
   "cell_type": "code",
   "execution_count": 19,
   "metadata": {},
   "outputs": [],
   "source": [
    "data = pd.read_csv('Data/xgboost_classification.csv', sep=';')"
   ]
  },
  {
   "cell_type": "code",
   "execution_count": 20,
   "metadata": {},
   "outputs": [
    {
     "data": {
      "text/plain": [
       "(20, 2)"
      ]
     },
     "execution_count": 20,
     "metadata": {},
     "output_type": "execute_result"
    }
   ],
   "source": [
    "data.shape"
   ]
  },
  {
   "cell_type": "code",
   "execution_count": 21,
   "metadata": {},
   "outputs": [],
   "source": [
    "y = data.pop('response')\n",
    "X = data"
   ]
  },
  {
   "cell_type": "code",
   "execution_count": 22,
   "metadata": {},
   "outputs": [
    {
     "name": "stderr",
     "output_type": "stream",
     "text": [
      "/Users/ivan/Desktop/Computer Science/Gewissta/code/module7/.venv/lib/python3.9/site-packages/xgboost/data.py:335: FutureWarning: is_sparse is deprecated and will be removed in a future version. Check `isinstance(dtype, pd.SparseDtype)` instead.\n",
      "  if is_sparse(dtype):\n",
      "/Users/ivan/Desktop/Computer Science/Gewissta/code/module7/.venv/lib/python3.9/site-packages/xgboost/data.py:338: FutureWarning: is_categorical_dtype is deprecated and will be removed in a future version. Use isinstance(dtype, CategoricalDtype) instead\n",
      "  is_categorical_dtype(dtype) or is_pa_ext_categorical_dtype(dtype)\n",
      "/Users/ivan/Desktop/Computer Science/Gewissta/code/module7/.venv/lib/python3.9/site-packages/xgboost/data.py:384: FutureWarning: is_categorical_dtype is deprecated and will be removed in a future version. Use isinstance(dtype, CategoricalDtype) instead\n",
      "  if is_categorical_dtype(dtype):\n",
      "/Users/ivan/Desktop/Computer Science/Gewissta/code/module7/.venv/lib/python3.9/site-packages/xgboost/data.py:359: FutureWarning: is_categorical_dtype is deprecated and will be removed in a future version. Use isinstance(dtype, CategoricalDtype) instead\n",
      "  return is_int or is_bool or is_float or is_categorical_dtype(dtype)\n",
      "/Users/ivan/Desktop/Computer Science/Gewissta/code/module7/.venv/lib/python3.9/site-packages/xgboost/data.py:520: FutureWarning: is_sparse is deprecated and will be removed in a future version. Check `isinstance(dtype, pd.SparseDtype)` instead.\n",
      "  if is_sparse(data):\n"
     ]
    }
   ],
   "source": [
    "dtrain = xgboost.DMatrix(data=X, label=y)"
   ]
  },
  {
   "cell_type": "code",
   "execution_count": 23,
   "metadata": {},
   "outputs": [],
   "source": [
    "params = {\n",
    "    'max_depth': 1,\n",
    "    'eta':1.0,\n",
    "    'objective':'binary:logistic',\n",
    "    'lambda':0,\n",
    "    'eval_metric':'logloss',\n",
    "    'seed':42,\n",
    "    'base_score':0.5\n",
    "}"
   ]
  },
  {
   "cell_type": "code",
   "execution_count": 24,
   "metadata": {},
   "outputs": [],
   "source": [
    "evallist = [(dtrain, 'train')]"
   ]
  },
  {
   "cell_type": "code",
   "execution_count": 25,
   "metadata": {},
   "outputs": [
    {
     "name": "stdout",
     "output_type": "stream",
     "text": [
      "[0]\ttrain-logloss:0.60364\n"
     ]
    }
   ],
   "source": [
    "model = xgboost.train(params=params, dtrain=dtrain, num_boost_round=1, evals=evallist)"
   ]
  },
  {
   "cell_type": "code",
   "execution_count": 26,
   "metadata": {},
   "outputs": [
    {
     "data": {
      "text/html": [
       "<div>\n",
       "<style scoped>\n",
       "    .dataframe tbody tr th:only-of-type {\n",
       "        vertical-align: middle;\n",
       "    }\n",
       "\n",
       "    .dataframe tbody tr th {\n",
       "        vertical-align: top;\n",
       "    }\n",
       "\n",
       "    .dataframe thead th {\n",
       "        text-align: right;\n",
       "    }\n",
       "</style>\n",
       "<table border=\"1\" class=\"dataframe\">\n",
       "  <thead>\n",
       "    <tr style=\"text-align: right;\">\n",
       "      <th></th>\n",
       "      <th>age</th>\n",
       "      <th>response</th>\n",
       "      <th>const</th>\n",
       "    </tr>\n",
       "  </thead>\n",
       "  <tbody>\n",
       "    <tr>\n",
       "      <th>0</th>\n",
       "      <td>23</td>\n",
       "      <td>0</td>\n",
       "      <td>0.5</td>\n",
       "    </tr>\n",
       "    <tr>\n",
       "      <th>1</th>\n",
       "      <td>45</td>\n",
       "      <td>0</td>\n",
       "      <td>0.5</td>\n",
       "    </tr>\n",
       "    <tr>\n",
       "      <th>2</th>\n",
       "      <td>44</td>\n",
       "      <td>0</td>\n",
       "      <td>0.5</td>\n",
       "    </tr>\n",
       "    <tr>\n",
       "      <th>3</th>\n",
       "      <td>20</td>\n",
       "      <td>0</td>\n",
       "      <td>0.5</td>\n",
       "    </tr>\n",
       "    <tr>\n",
       "      <th>4</th>\n",
       "      <td>49</td>\n",
       "      <td>0</td>\n",
       "      <td>0.5</td>\n",
       "    </tr>\n",
       "    <tr>\n",
       "      <th>5</th>\n",
       "      <td>56</td>\n",
       "      <td>1</td>\n",
       "      <td>0.5</td>\n",
       "    </tr>\n",
       "    <tr>\n",
       "      <th>6</th>\n",
       "      <td>55</td>\n",
       "      <td>1</td>\n",
       "      <td>0.5</td>\n",
       "    </tr>\n",
       "    <tr>\n",
       "      <th>7</th>\n",
       "      <td>43</td>\n",
       "      <td>1</td>\n",
       "      <td>0.5</td>\n",
       "    </tr>\n",
       "    <tr>\n",
       "      <th>8</th>\n",
       "      <td>23</td>\n",
       "      <td>0</td>\n",
       "      <td>0.5</td>\n",
       "    </tr>\n",
       "    <tr>\n",
       "      <th>9</th>\n",
       "      <td>67</td>\n",
       "      <td>0</td>\n",
       "      <td>0.5</td>\n",
       "    </tr>\n",
       "    <tr>\n",
       "      <th>10</th>\n",
       "      <td>54</td>\n",
       "      <td>0</td>\n",
       "      <td>0.5</td>\n",
       "    </tr>\n",
       "    <tr>\n",
       "      <th>11</th>\n",
       "      <td>43</td>\n",
       "      <td>0</td>\n",
       "      <td>0.5</td>\n",
       "    </tr>\n",
       "    <tr>\n",
       "      <th>12</th>\n",
       "      <td>22</td>\n",
       "      <td>0</td>\n",
       "      <td>0.5</td>\n",
       "    </tr>\n",
       "    <tr>\n",
       "      <th>13</th>\n",
       "      <td>25</td>\n",
       "      <td>0</td>\n",
       "      <td>0.5</td>\n",
       "    </tr>\n",
       "    <tr>\n",
       "      <th>14</th>\n",
       "      <td>47</td>\n",
       "      <td>0</td>\n",
       "      <td>0.5</td>\n",
       "    </tr>\n",
       "    <tr>\n",
       "      <th>15</th>\n",
       "      <td>36</td>\n",
       "      <td>1</td>\n",
       "      <td>0.5</td>\n",
       "    </tr>\n",
       "    <tr>\n",
       "      <th>16</th>\n",
       "      <td>20</td>\n",
       "      <td>1</td>\n",
       "      <td>0.5</td>\n",
       "    </tr>\n",
       "    <tr>\n",
       "      <th>17</th>\n",
       "      <td>56</td>\n",
       "      <td>1</td>\n",
       "      <td>0.5</td>\n",
       "    </tr>\n",
       "    <tr>\n",
       "      <th>18</th>\n",
       "      <td>56</td>\n",
       "      <td>0</td>\n",
       "      <td>0.5</td>\n",
       "    </tr>\n",
       "    <tr>\n",
       "      <th>19</th>\n",
       "      <td>34</td>\n",
       "      <td>1</td>\n",
       "      <td>0.5</td>\n",
       "    </tr>\n",
       "  </tbody>\n",
       "</table>\n",
       "</div>"
      ],
      "text/plain": [
       "    age  response  const\n",
       "0    23         0    0.5\n",
       "1    45         0    0.5\n",
       "2    44         0    0.5\n",
       "3    20         0    0.5\n",
       "4    49         0    0.5\n",
       "5    56         1    0.5\n",
       "6    55         1    0.5\n",
       "7    43         1    0.5\n",
       "8    23         0    0.5\n",
       "9    67         0    0.5\n",
       "10   54         0    0.5\n",
       "11   43         0    0.5\n",
       "12   22         0    0.5\n",
       "13   25         0    0.5\n",
       "14   47         0    0.5\n",
       "15   36         1    0.5\n",
       "16   20         1    0.5\n",
       "17   56         1    0.5\n",
       "18   56         0    0.5\n",
       "19   34         1    0.5"
      ]
     },
     "execution_count": 26,
     "metadata": {},
     "output_type": "execute_result"
    }
   ],
   "source": [
    "df = pd.concat([X, y], axis=1)\n",
    "const = np.array([0.5] * 20)\n",
    "df['const'] = const\n",
    "df"
   ]
  },
  {
   "cell_type": "code",
   "execution_count": 27,
   "metadata": {},
   "outputs": [],
   "source": [
    "grad_0 = df['const'] - df['response']\n",
    "hess_0 = df['const'] * (1 - df['const'])"
   ]
  },
  {
   "cell_type": "code",
   "execution_count": 28,
   "metadata": {},
   "outputs": [],
   "source": [
    "df['grad_0'] = grad_0\n",
    "df['hess_0'] = hess_0"
   ]
  },
  {
   "cell_type": "code",
   "execution_count": 29,
   "metadata": {},
   "outputs": [
    {
     "data": {
      "text/html": [
       "<div>\n",
       "<style scoped>\n",
       "    .dataframe tbody tr th:only-of-type {\n",
       "        vertical-align: middle;\n",
       "    }\n",
       "\n",
       "    .dataframe tbody tr th {\n",
       "        vertical-align: top;\n",
       "    }\n",
       "\n",
       "    .dataframe thead th {\n",
       "        text-align: right;\n",
       "    }\n",
       "</style>\n",
       "<table border=\"1\" class=\"dataframe\">\n",
       "  <thead>\n",
       "    <tr style=\"text-align: right;\">\n",
       "      <th></th>\n",
       "      <th>age</th>\n",
       "      <th>response</th>\n",
       "      <th>const</th>\n",
       "      <th>grad_0</th>\n",
       "      <th>hess_0</th>\n",
       "    </tr>\n",
       "  </thead>\n",
       "  <tbody>\n",
       "    <tr>\n",
       "      <th>0</th>\n",
       "      <td>23</td>\n",
       "      <td>0</td>\n",
       "      <td>0.5</td>\n",
       "      <td>0.5</td>\n",
       "      <td>0.25</td>\n",
       "    </tr>\n",
       "    <tr>\n",
       "      <th>1</th>\n",
       "      <td>45</td>\n",
       "      <td>0</td>\n",
       "      <td>0.5</td>\n",
       "      <td>0.5</td>\n",
       "      <td>0.25</td>\n",
       "    </tr>\n",
       "    <tr>\n",
       "      <th>2</th>\n",
       "      <td>44</td>\n",
       "      <td>0</td>\n",
       "      <td>0.5</td>\n",
       "      <td>0.5</td>\n",
       "      <td>0.25</td>\n",
       "    </tr>\n",
       "    <tr>\n",
       "      <th>3</th>\n",
       "      <td>20</td>\n",
       "      <td>0</td>\n",
       "      <td>0.5</td>\n",
       "      <td>0.5</td>\n",
       "      <td>0.25</td>\n",
       "    </tr>\n",
       "    <tr>\n",
       "      <th>4</th>\n",
       "      <td>49</td>\n",
       "      <td>0</td>\n",
       "      <td>0.5</td>\n",
       "      <td>0.5</td>\n",
       "      <td>0.25</td>\n",
       "    </tr>\n",
       "    <tr>\n",
       "      <th>5</th>\n",
       "      <td>56</td>\n",
       "      <td>1</td>\n",
       "      <td>0.5</td>\n",
       "      <td>-0.5</td>\n",
       "      <td>0.25</td>\n",
       "    </tr>\n",
       "    <tr>\n",
       "      <th>6</th>\n",
       "      <td>55</td>\n",
       "      <td>1</td>\n",
       "      <td>0.5</td>\n",
       "      <td>-0.5</td>\n",
       "      <td>0.25</td>\n",
       "    </tr>\n",
       "    <tr>\n",
       "      <th>7</th>\n",
       "      <td>43</td>\n",
       "      <td>1</td>\n",
       "      <td>0.5</td>\n",
       "      <td>-0.5</td>\n",
       "      <td>0.25</td>\n",
       "    </tr>\n",
       "    <tr>\n",
       "      <th>8</th>\n",
       "      <td>23</td>\n",
       "      <td>0</td>\n",
       "      <td>0.5</td>\n",
       "      <td>0.5</td>\n",
       "      <td>0.25</td>\n",
       "    </tr>\n",
       "    <tr>\n",
       "      <th>9</th>\n",
       "      <td>67</td>\n",
       "      <td>0</td>\n",
       "      <td>0.5</td>\n",
       "      <td>0.5</td>\n",
       "      <td>0.25</td>\n",
       "    </tr>\n",
       "    <tr>\n",
       "      <th>10</th>\n",
       "      <td>54</td>\n",
       "      <td>0</td>\n",
       "      <td>0.5</td>\n",
       "      <td>0.5</td>\n",
       "      <td>0.25</td>\n",
       "    </tr>\n",
       "    <tr>\n",
       "      <th>11</th>\n",
       "      <td>43</td>\n",
       "      <td>0</td>\n",
       "      <td>0.5</td>\n",
       "      <td>0.5</td>\n",
       "      <td>0.25</td>\n",
       "    </tr>\n",
       "    <tr>\n",
       "      <th>12</th>\n",
       "      <td>22</td>\n",
       "      <td>0</td>\n",
       "      <td>0.5</td>\n",
       "      <td>0.5</td>\n",
       "      <td>0.25</td>\n",
       "    </tr>\n",
       "    <tr>\n",
       "      <th>13</th>\n",
       "      <td>25</td>\n",
       "      <td>0</td>\n",
       "      <td>0.5</td>\n",
       "      <td>0.5</td>\n",
       "      <td>0.25</td>\n",
       "    </tr>\n",
       "    <tr>\n",
       "      <th>14</th>\n",
       "      <td>47</td>\n",
       "      <td>0</td>\n",
       "      <td>0.5</td>\n",
       "      <td>0.5</td>\n",
       "      <td>0.25</td>\n",
       "    </tr>\n",
       "    <tr>\n",
       "      <th>15</th>\n",
       "      <td>36</td>\n",
       "      <td>1</td>\n",
       "      <td>0.5</td>\n",
       "      <td>-0.5</td>\n",
       "      <td>0.25</td>\n",
       "    </tr>\n",
       "    <tr>\n",
       "      <th>16</th>\n",
       "      <td>20</td>\n",
       "      <td>1</td>\n",
       "      <td>0.5</td>\n",
       "      <td>-0.5</td>\n",
       "      <td>0.25</td>\n",
       "    </tr>\n",
       "    <tr>\n",
       "      <th>17</th>\n",
       "      <td>56</td>\n",
       "      <td>1</td>\n",
       "      <td>0.5</td>\n",
       "      <td>-0.5</td>\n",
       "      <td>0.25</td>\n",
       "    </tr>\n",
       "    <tr>\n",
       "      <th>18</th>\n",
       "      <td>56</td>\n",
       "      <td>0</td>\n",
       "      <td>0.5</td>\n",
       "      <td>0.5</td>\n",
       "      <td>0.25</td>\n",
       "    </tr>\n",
       "    <tr>\n",
       "      <th>19</th>\n",
       "      <td>34</td>\n",
       "      <td>1</td>\n",
       "      <td>0.5</td>\n",
       "      <td>-0.5</td>\n",
       "      <td>0.25</td>\n",
       "    </tr>\n",
       "  </tbody>\n",
       "</table>\n",
       "</div>"
      ],
      "text/plain": [
       "    age  response  const  grad_0  hess_0\n",
       "0    23         0    0.5     0.5    0.25\n",
       "1    45         0    0.5     0.5    0.25\n",
       "2    44         0    0.5     0.5    0.25\n",
       "3    20         0    0.5     0.5    0.25\n",
       "4    49         0    0.5     0.5    0.25\n",
       "5    56         1    0.5    -0.5    0.25\n",
       "6    55         1    0.5    -0.5    0.25\n",
       "7    43         1    0.5    -0.5    0.25\n",
       "8    23         0    0.5     0.5    0.25\n",
       "9    67         0    0.5     0.5    0.25\n",
       "10   54         0    0.5     0.5    0.25\n",
       "11   43         0    0.5     0.5    0.25\n",
       "12   22         0    0.5     0.5    0.25\n",
       "13   25         0    0.5     0.5    0.25\n",
       "14   47         0    0.5     0.5    0.25\n",
       "15   36         1    0.5    -0.5    0.25\n",
       "16   20         1    0.5    -0.5    0.25\n",
       "17   56         1    0.5    -0.5    0.25\n",
       "18   56         0    0.5     0.5    0.25\n",
       "19   34         1    0.5    -0.5    0.25"
      ]
     },
     "execution_count": 29,
     "metadata": {},
     "output_type": "execute_result"
    }
   ],
   "source": [
    "df"
   ]
  },
  {
   "cell_type": "code",
   "execution_count": 30,
   "metadata": {},
   "outputs": [
    {
     "data": {
      "text/plain": [
       "<Axes: >"
      ]
     },
     "execution_count": 30,
     "metadata": {},
     "output_type": "execute_result"
    },
    {
     "data": {
      "image/png": "[encoded data removed]",
      "text/plain": [
       "<Figure size 640x480 with 1 Axes>"
      ]
     },
     "metadata": {
      "image/png": {
       "height": 210,
       "width": 515
      }
     },
     "output_type": "display_data"
    }
   ],
   "source": [
    "xgboost.plot_tree(model, num_trees=0)"
   ]
  },
  {
   "cell_type": "code",
   "execution_count": 31,
   "metadata": {},
   "outputs": [
    {
     "data": {
      "text/html": [
       "<div>\n",
       "<style scoped>\n",
       "    .dataframe tbody tr th:only-of-type {\n",
       "        vertical-align: middle;\n",
       "    }\n",
       "\n",
       "    .dataframe tbody tr th {\n",
       "        vertical-align: top;\n",
       "    }\n",
       "\n",
       "    .dataframe thead th {\n",
       "        text-align: right;\n",
       "    }\n",
       "</style>\n",
       "<table border=\"1\" class=\"dataframe\">\n",
       "  <thead>\n",
       "    <tr style=\"text-align: right;\">\n",
       "      <th></th>\n",
       "      <th>SplitValue</th>\n",
       "      <th>Count</th>\n",
       "    </tr>\n",
       "  </thead>\n",
       "  <tbody>\n",
       "    <tr>\n",
       "      <th>0</th>\n",
       "      <td>55.5</td>\n",
       "      <td>1.0</td>\n",
       "    </tr>\n",
       "  </tbody>\n",
       "</table>\n",
       "</div>"
      ],
      "text/plain": [
       "   SplitValue  Count\n",
       "0        55.5    1.0"
      ]
     },
     "execution_count": 31,
     "metadata": {},
     "output_type": "execute_result"
    }
   ],
   "source": [
    "model.get_split_value_histogram('age', as_pandas=True)"
   ]
  },
  {
   "cell_type": "code",
   "execution_count": 32,
   "metadata": {},
   "outputs": [],
   "source": [
    "vals = df['age']\n",
    "levels = np.unique(vals)"
   ]
  },
  {
   "cell_type": "code",
   "execution_count": 34,
   "metadata": {},
   "outputs": [
    {
     "data": {
      "text/plain": [
       "array([20, 22, 23, 25, 34, 36, 43, 44, 45, 47, 49, 54, 55, 56])"
      ]
     },
     "execution_count": 34,
     "metadata": {},
     "output_type": "execute_result"
    }
   ],
   "source": [
    "levels[:-1]"
   ]
  },
  {
   "cell_type": "code",
   "execution_count": 35,
   "metadata": {},
   "outputs": [],
   "source": [
    "thresholds = (levels[:-1] + levels[1:]) / 2 if len(levels) > 1 else levels"
   ]
  },
  {
   "cell_type": "code",
   "execution_count": 36,
   "metadata": {},
   "outputs": [
    {
     "data": {
      "text/plain": [
       "array([21. , 22.5, 24. , 29.5, 35. , 39.5, 43.5, 44.5, 46. , 48. , 51.5,\n",
       "       54.5, 55.5, 61.5])"
      ]
     },
     "execution_count": 36,
     "metadata": {},
     "output_type": "execute_result"
    }
   ],
   "source": [
    "thresholds"
   ]
  },
  {
   "cell_type": "code",
   "execution_count": 37,
   "metadata": {},
   "outputs": [],
   "source": [
    "eta = 1.0\n",
    "lambda_ = 0"
   ]
  },
  {
   "cell_type": "code",
   "execution_count": 38,
   "metadata": {},
   "outputs": [],
   "source": [
    "G_left = df[df['age'] < 55].sum()['grad_0']"
   ]
  },
  {
   "cell_type": "code",
   "execution_count": 39,
   "metadata": {},
   "outputs": [],
   "source": [
    "H_left = df[df['age'] < 55].sum()['hess_0']"
   ]
  },
  {
   "cell_type": "code",
   "execution_count": 40,
   "metadata": {},
   "outputs": [],
   "source": [
    "weight_left = eta * (-(G_left / (H_left + lambda_)))"
   ]
  },
  {
   "cell_type": "code",
   "execution_count": 43,
   "metadata": {},
   "outputs": [
    {
     "name": "stdout",
     "output_type": "stream",
     "text": [
      "сумма градиентов в левом листе первого дерева 3.5\n",
      "сумма гессианов в левом листе первого дерева 3.75\n",
      "вес левого листа первого дерева -0.933\n"
     ]
    }
   ],
   "source": [
    "print('сумма градиентов в левом листе первого дерева', G_left)\n",
    "print('сумма гессианов в левом листе первого дерева', H_left)\n",
    "print('вес левого листа первого дерева', round(weight_left,3))"
   ]
  },
  {
   "cell_type": "code",
   "execution_count": 44,
   "metadata": {},
   "outputs": [],
   "source": [
    "G_right = df[df['age'] >= 55].sum()['grad_0']\n",
    "H_right = df[df['age'] >= 55].sum()['hess_0']"
   ]
  },
  {
   "cell_type": "code",
   "execution_count": 45,
   "metadata": {},
   "outputs": [],
   "source": [
    "weight_right = eta * (-(G_right / (H_right + lambda_)))"
   ]
  },
  {
   "cell_type": "code",
   "execution_count": 46,
   "metadata": {},
   "outputs": [
    {
     "name": "stdout",
     "output_type": "stream",
     "text": [
      "-0.5\n",
      "1.25\n",
      "0.4\n"
     ]
    }
   ],
   "source": [
    "print(G_right)\n",
    "print(H_right)\n",
    "print(weight_right)"
   ]
  },
  {
   "cell_type": "code",
   "execution_count": 47,
   "metadata": {},
   "outputs": [],
   "source": [
    "df['h_0'] = np.where(df['age'] < 55, -0.93333333337, 0.4000000006)"
   ]
  },
  {
   "cell_type": "code",
   "execution_count": 48,
   "metadata": {},
   "outputs": [
    {
     "data": {
      "text/html": [
       "<div>\n",
       "<style scoped>\n",
       "    .dataframe tbody tr th:only-of-type {\n",
       "        vertical-align: middle;\n",
       "    }\n",
       "\n",
       "    .dataframe tbody tr th {\n",
       "        vertical-align: top;\n",
       "    }\n",
       "\n",
       "    .dataframe thead th {\n",
       "        text-align: right;\n",
       "    }\n",
       "</style>\n",
       "<table border=\"1\" class=\"dataframe\">\n",
       "  <thead>\n",
       "    <tr style=\"text-align: right;\">\n",
       "      <th></th>\n",
       "      <th>age</th>\n",
       "      <th>response</th>\n",
       "      <th>const</th>\n",
       "      <th>grad_0</th>\n",
       "      <th>hess_0</th>\n",
       "      <th>h_0</th>\n",
       "    </tr>\n",
       "  </thead>\n",
       "  <tbody>\n",
       "    <tr>\n",
       "      <th>0</th>\n",
       "      <td>23</td>\n",
       "      <td>0</td>\n",
       "      <td>0.5</td>\n",
       "      <td>0.5</td>\n",
       "      <td>0.25</td>\n",
       "      <td>-0.933333</td>\n",
       "    </tr>\n",
       "    <tr>\n",
       "      <th>1</th>\n",
       "      <td>45</td>\n",
       "      <td>0</td>\n",
       "      <td>0.5</td>\n",
       "      <td>0.5</td>\n",
       "      <td>0.25</td>\n",
       "      <td>-0.933333</td>\n",
       "    </tr>\n",
       "    <tr>\n",
       "      <th>2</th>\n",
       "      <td>44</td>\n",
       "      <td>0</td>\n",
       "      <td>0.5</td>\n",
       "      <td>0.5</td>\n",
       "      <td>0.25</td>\n",
       "      <td>-0.933333</td>\n",
       "    </tr>\n",
       "    <tr>\n",
       "      <th>3</th>\n",
       "      <td>20</td>\n",
       "      <td>0</td>\n",
       "      <td>0.5</td>\n",
       "      <td>0.5</td>\n",
       "      <td>0.25</td>\n",
       "      <td>-0.933333</td>\n",
       "    </tr>\n",
       "    <tr>\n",
       "      <th>4</th>\n",
       "      <td>49</td>\n",
       "      <td>0</td>\n",
       "      <td>0.5</td>\n",
       "      <td>0.5</td>\n",
       "      <td>0.25</td>\n",
       "      <td>-0.933333</td>\n",
       "    </tr>\n",
       "    <tr>\n",
       "      <th>5</th>\n",
       "      <td>56</td>\n",
       "      <td>1</td>\n",
       "      <td>0.5</td>\n",
       "      <td>-0.5</td>\n",
       "      <td>0.25</td>\n",
       "      <td>0.400000</td>\n",
       "    </tr>\n",
       "    <tr>\n",
       "      <th>6</th>\n",
       "      <td>55</td>\n",
       "      <td>1</td>\n",
       "      <td>0.5</td>\n",
       "      <td>-0.5</td>\n",
       "      <td>0.25</td>\n",
       "      <td>0.400000</td>\n",
       "    </tr>\n",
       "    <tr>\n",
       "      <th>7</th>\n",
       "      <td>43</td>\n",
       "      <td>1</td>\n",
       "      <td>0.5</td>\n",
       "      <td>-0.5</td>\n",
       "      <td>0.25</td>\n",
       "      <td>-0.933333</td>\n",
       "    </tr>\n",
       "    <tr>\n",
       "      <th>8</th>\n",
       "      <td>23</td>\n",
       "      <td>0</td>\n",
       "      <td>0.5</td>\n",
       "      <td>0.5</td>\n",
       "      <td>0.25</td>\n",
       "      <td>-0.933333</td>\n",
       "    </tr>\n",
       "    <tr>\n",
       "      <th>9</th>\n",
       "      <td>67</td>\n",
       "      <td>0</td>\n",
       "      <td>0.5</td>\n",
       "      <td>0.5</td>\n",
       "      <td>0.25</td>\n",
       "      <td>0.400000</td>\n",
       "    </tr>\n",
       "    <tr>\n",
       "      <th>10</th>\n",
       "      <td>54</td>\n",
       "      <td>0</td>\n",
       "      <td>0.5</td>\n",
       "      <td>0.5</td>\n",
       "      <td>0.25</td>\n",
       "      <td>-0.933333</td>\n",
       "    </tr>\n",
       "    <tr>\n",
       "      <th>11</th>\n",
       "      <td>43</td>\n",
       "      <td>0</td>\n",
       "      <td>0.5</td>\n",
       "      <td>0.5</td>\n",
       "      <td>0.25</td>\n",
       "      <td>-0.933333</td>\n",
       "    </tr>\n",
       "    <tr>\n",
       "      <th>12</th>\n",
       "      <td>22</td>\n",
       "      <td>0</td>\n",
       "      <td>0.5</td>\n",
       "      <td>0.5</td>\n",
       "      <td>0.25</td>\n",
       "      <td>-0.933333</td>\n",
       "    </tr>\n",
       "    <tr>\n",
       "      <th>13</th>\n",
       "      <td>25</td>\n",
       "      <td>0</td>\n",
       "      <td>0.5</td>\n",
       "      <td>0.5</td>\n",
       "      <td>0.25</td>\n",
       "      <td>-0.933333</td>\n",
       "    </tr>\n",
       "    <tr>\n",
       "      <th>14</th>\n",
       "      <td>47</td>\n",
       "      <td>0</td>\n",
       "      <td>0.5</td>\n",
       "      <td>0.5</td>\n",
       "      <td>0.25</td>\n",
       "      <td>-0.933333</td>\n",
       "    </tr>\n",
       "    <tr>\n",
       "      <th>15</th>\n",
       "      <td>36</td>\n",
       "      <td>1</td>\n",
       "      <td>0.5</td>\n",
       "      <td>-0.5</td>\n",
       "      <td>0.25</td>\n",
       "      <td>-0.933333</td>\n",
       "    </tr>\n",
       "    <tr>\n",
       "      <th>16</th>\n",
       "      <td>20</td>\n",
       "      <td>1</td>\n",
       "      <td>0.5</td>\n",
       "      <td>-0.5</td>\n",
       "      <td>0.25</td>\n",
       "      <td>-0.933333</td>\n",
       "    </tr>\n",
       "    <tr>\n",
       "      <th>17</th>\n",
       "      <td>56</td>\n",
       "      <td>1</td>\n",
       "      <td>0.5</td>\n",
       "      <td>-0.5</td>\n",
       "      <td>0.25</td>\n",
       "      <td>0.400000</td>\n",
       "    </tr>\n",
       "    <tr>\n",
       "      <th>18</th>\n",
       "      <td>56</td>\n",
       "      <td>0</td>\n",
       "      <td>0.5</td>\n",
       "      <td>0.5</td>\n",
       "      <td>0.25</td>\n",
       "      <td>0.400000</td>\n",
       "    </tr>\n",
       "    <tr>\n",
       "      <th>19</th>\n",
       "      <td>34</td>\n",
       "      <td>1</td>\n",
       "      <td>0.5</td>\n",
       "      <td>-0.5</td>\n",
       "      <td>0.25</td>\n",
       "      <td>-0.933333</td>\n",
       "    </tr>\n",
       "  </tbody>\n",
       "</table>\n",
       "</div>"
      ],
      "text/plain": [
       "    age  response  const  grad_0  hess_0       h_0\n",
       "0    23         0    0.5     0.5    0.25 -0.933333\n",
       "1    45         0    0.5     0.5    0.25 -0.933333\n",
       "2    44         0    0.5     0.5    0.25 -0.933333\n",
       "3    20         0    0.5     0.5    0.25 -0.933333\n",
       "4    49         0    0.5     0.5    0.25 -0.933333\n",
       "5    56         1    0.5    -0.5    0.25  0.400000\n",
       "6    55         1    0.5    -0.5    0.25  0.400000\n",
       "7    43         1    0.5    -0.5    0.25 -0.933333\n",
       "8    23         0    0.5     0.5    0.25 -0.933333\n",
       "9    67         0    0.5     0.5    0.25  0.400000\n",
       "10   54         0    0.5     0.5    0.25 -0.933333\n",
       "11   43         0    0.5     0.5    0.25 -0.933333\n",
       "12   22         0    0.5     0.5    0.25 -0.933333\n",
       "13   25         0    0.5     0.5    0.25 -0.933333\n",
       "14   47         0    0.5     0.5    0.25 -0.933333\n",
       "15   36         1    0.5    -0.5    0.25 -0.933333\n",
       "16   20         1    0.5    -0.5    0.25 -0.933333\n",
       "17   56         1    0.5    -0.5    0.25  0.400000\n",
       "18   56         0    0.5     0.5    0.25  0.400000\n",
       "19   34         1    0.5    -0.5    0.25 -0.933333"
      ]
     },
     "execution_count": 48,
     "metadata": {},
     "output_type": "execute_result"
    }
   ],
   "source": [
    "df"
   ]
  },
  {
   "cell_type": "code",
   "execution_count": 49,
   "metadata": {},
   "outputs": [],
   "source": [
    "def sigmoid(x):\n",
    "    return 1 / (1 + np.exp(-x))"
   ]
  },
  {
   "cell_type": "code",
   "execution_count": 50,
   "metadata": {},
   "outputs": [],
   "source": [
    "base_score = .5"
   ]
  },
  {
   "cell_type": "code",
   "execution_count": 51,
   "metadata": {},
   "outputs": [],
   "source": [
    "df['proba_0'] = sigmoid(np.log(base_score / (1 - base_score)) + df['h_0'])"
   ]
  },
  {
   "cell_type": "code",
   "execution_count": 52,
   "metadata": {},
   "outputs": [
    {
     "data": {
      "text/html": [
       "<div>\n",
       "<style scoped>\n",
       "    .dataframe tbody tr th:only-of-type {\n",
       "        vertical-align: middle;\n",
       "    }\n",
       "\n",
       "    .dataframe tbody tr th {\n",
       "        vertical-align: top;\n",
       "    }\n",
       "\n",
       "    .dataframe thead th {\n",
       "        text-align: right;\n",
       "    }\n",
       "</style>\n",
       "<table border=\"1\" class=\"dataframe\">\n",
       "  <thead>\n",
       "    <tr style=\"text-align: right;\">\n",
       "      <th></th>\n",
       "      <th>age</th>\n",
       "      <th>response</th>\n",
       "      <th>const</th>\n",
       "      <th>grad_0</th>\n",
       "      <th>hess_0</th>\n",
       "      <th>h_0</th>\n",
       "      <th>proba_0</th>\n",
       "    </tr>\n",
       "  </thead>\n",
       "  <tbody>\n",
       "    <tr>\n",
       "      <th>0</th>\n",
       "      <td>23</td>\n",
       "      <td>0</td>\n",
       "      <td>0.5</td>\n",
       "      <td>0.5</td>\n",
       "      <td>0.25</td>\n",
       "      <td>-0.933333</td>\n",
       "      <td>0.282249</td>\n",
       "    </tr>\n",
       "    <tr>\n",
       "      <th>1</th>\n",
       "      <td>45</td>\n",
       "      <td>0</td>\n",
       "      <td>0.5</td>\n",
       "      <td>0.5</td>\n",
       "      <td>0.25</td>\n",
       "      <td>-0.933333</td>\n",
       "      <td>0.282249</td>\n",
       "    </tr>\n",
       "    <tr>\n",
       "      <th>2</th>\n",
       "      <td>44</td>\n",
       "      <td>0</td>\n",
       "      <td>0.5</td>\n",
       "      <td>0.5</td>\n",
       "      <td>0.25</td>\n",
       "      <td>-0.933333</td>\n",
       "      <td>0.282249</td>\n",
       "    </tr>\n",
       "    <tr>\n",
       "      <th>3</th>\n",
       "      <td>20</td>\n",
       "      <td>0</td>\n",
       "      <td>0.5</td>\n",
       "      <td>0.5</td>\n",
       "      <td>0.25</td>\n",
       "      <td>-0.933333</td>\n",
       "      <td>0.282249</td>\n",
       "    </tr>\n",
       "    <tr>\n",
       "      <th>4</th>\n",
       "      <td>49</td>\n",
       "      <td>0</td>\n",
       "      <td>0.5</td>\n",
       "      <td>0.5</td>\n",
       "      <td>0.25</td>\n",
       "      <td>-0.933333</td>\n",
       "      <td>0.282249</td>\n",
       "    </tr>\n",
       "    <tr>\n",
       "      <th>5</th>\n",
       "      <td>56</td>\n",
       "      <td>1</td>\n",
       "      <td>0.5</td>\n",
       "      <td>-0.5</td>\n",
       "      <td>0.25</td>\n",
       "      <td>0.400000</td>\n",
       "      <td>0.598688</td>\n",
       "    </tr>\n",
       "    <tr>\n",
       "      <th>6</th>\n",
       "      <td>55</td>\n",
       "      <td>1</td>\n",
       "      <td>0.5</td>\n",
       "      <td>-0.5</td>\n",
       "      <td>0.25</td>\n",
       "      <td>0.400000</td>\n",
       "      <td>0.598688</td>\n",
       "    </tr>\n",
       "    <tr>\n",
       "      <th>7</th>\n",
       "      <td>43</td>\n",
       "      <td>1</td>\n",
       "      <td>0.5</td>\n",
       "      <td>-0.5</td>\n",
       "      <td>0.25</td>\n",
       "      <td>-0.933333</td>\n",
       "      <td>0.282249</td>\n",
       "    </tr>\n",
       "    <tr>\n",
       "      <th>8</th>\n",
       "      <td>23</td>\n",
       "      <td>0</td>\n",
       "      <td>0.5</td>\n",
       "      <td>0.5</td>\n",
       "      <td>0.25</td>\n",
       "      <td>-0.933333</td>\n",
       "      <td>0.282249</td>\n",
       "    </tr>\n",
       "    <tr>\n",
       "      <th>9</th>\n",
       "      <td>67</td>\n",
       "      <td>0</td>\n",
       "      <td>0.5</td>\n",
       "      <td>0.5</td>\n",
       "      <td>0.25</td>\n",
       "      <td>0.400000</td>\n",
       "      <td>0.598688</td>\n",
       "    </tr>\n",
       "    <tr>\n",
       "      <th>10</th>\n",
       "      <td>54</td>\n",
       "      <td>0</td>\n",
       "      <td>0.5</td>\n",
       "      <td>0.5</td>\n",
       "      <td>0.25</td>\n",
       "      <td>-0.933333</td>\n",
       "      <td>0.282249</td>\n",
       "    </tr>\n",
       "    <tr>\n",
       "      <th>11</th>\n",
       "      <td>43</td>\n",
       "      <td>0</td>\n",
       "      <td>0.5</td>\n",
       "      <td>0.5</td>\n",
       "      <td>0.25</td>\n",
       "      <td>-0.933333</td>\n",
       "      <td>0.282249</td>\n",
       "    </tr>\n",
       "    <tr>\n",
       "      <th>12</th>\n",
       "      <td>22</td>\n",
       "      <td>0</td>\n",
       "      <td>0.5</td>\n",
       "      <td>0.5</td>\n",
       "      <td>0.25</td>\n",
       "      <td>-0.933333</td>\n",
       "      <td>0.282249</td>\n",
       "    </tr>\n",
       "    <tr>\n",
       "      <th>13</th>\n",
       "      <td>25</td>\n",
       "      <td>0</td>\n",
       "      <td>0.5</td>\n",
       "      <td>0.5</td>\n",
       "      <td>0.25</td>\n",
       "      <td>-0.933333</td>\n",
       "      <td>0.282249</td>\n",
       "    </tr>\n",
       "    <tr>\n",
       "      <th>14</th>\n",
       "      <td>47</td>\n",
       "      <td>0</td>\n",
       "      <td>0.5</td>\n",
       "      <td>0.5</td>\n",
       "      <td>0.25</td>\n",
       "      <td>-0.933333</td>\n",
       "      <td>0.282249</td>\n",
       "    </tr>\n",
       "    <tr>\n",
       "      <th>15</th>\n",
       "      <td>36</td>\n",
       "      <td>1</td>\n",
       "      <td>0.5</td>\n",
       "      <td>-0.5</td>\n",
       "      <td>0.25</td>\n",
       "      <td>-0.933333</td>\n",
       "      <td>0.282249</td>\n",
       "    </tr>\n",
       "    <tr>\n",
       "      <th>16</th>\n",
       "      <td>20</td>\n",
       "      <td>1</td>\n",
       "      <td>0.5</td>\n",
       "      <td>-0.5</td>\n",
       "      <td>0.25</td>\n",
       "      <td>-0.933333</td>\n",
       "      <td>0.282249</td>\n",
       "    </tr>\n",
       "    <tr>\n",
       "      <th>17</th>\n",
       "      <td>56</td>\n",
       "      <td>1</td>\n",
       "      <td>0.5</td>\n",
       "      <td>-0.5</td>\n",
       "      <td>0.25</td>\n",
       "      <td>0.400000</td>\n",
       "      <td>0.598688</td>\n",
       "    </tr>\n",
       "    <tr>\n",
       "      <th>18</th>\n",
       "      <td>56</td>\n",
       "      <td>0</td>\n",
       "      <td>0.5</td>\n",
       "      <td>0.5</td>\n",
       "      <td>0.25</td>\n",
       "      <td>0.400000</td>\n",
       "      <td>0.598688</td>\n",
       "    </tr>\n",
       "    <tr>\n",
       "      <th>19</th>\n",
       "      <td>34</td>\n",
       "      <td>1</td>\n",
       "      <td>0.5</td>\n",
       "      <td>-0.5</td>\n",
       "      <td>0.25</td>\n",
       "      <td>-0.933333</td>\n",
       "      <td>0.282249</td>\n",
       "    </tr>\n",
       "  </tbody>\n",
       "</table>\n",
       "</div>"
      ],
      "text/plain": [
       "    age  response  const  grad_0  hess_0       h_0   proba_0\n",
       "0    23         0    0.5     0.5    0.25 -0.933333  0.282249\n",
       "1    45         0    0.5     0.5    0.25 -0.933333  0.282249\n",
       "2    44         0    0.5     0.5    0.25 -0.933333  0.282249\n",
       "3    20         0    0.5     0.5    0.25 -0.933333  0.282249\n",
       "4    49         0    0.5     0.5    0.25 -0.933333  0.282249\n",
       "5    56         1    0.5    -0.5    0.25  0.400000  0.598688\n",
       "6    55         1    0.5    -0.5    0.25  0.400000  0.598688\n",
       "7    43         1    0.5    -0.5    0.25 -0.933333  0.282249\n",
       "8    23         0    0.5     0.5    0.25 -0.933333  0.282249\n",
       "9    67         0    0.5     0.5    0.25  0.400000  0.598688\n",
       "10   54         0    0.5     0.5    0.25 -0.933333  0.282249\n",
       "11   43         0    0.5     0.5    0.25 -0.933333  0.282249\n",
       "12   22         0    0.5     0.5    0.25 -0.933333  0.282249\n",
       "13   25         0    0.5     0.5    0.25 -0.933333  0.282249\n",
       "14   47         0    0.5     0.5    0.25 -0.933333  0.282249\n",
       "15   36         1    0.5    -0.5    0.25 -0.933333  0.282249\n",
       "16   20         1    0.5    -0.5    0.25 -0.933333  0.282249\n",
       "17   56         1    0.5    -0.5    0.25  0.400000  0.598688\n",
       "18   56         0    0.5     0.5    0.25  0.400000  0.598688\n",
       "19   34         1    0.5    -0.5    0.25 -0.933333  0.282249"
      ]
     },
     "execution_count": 52,
     "metadata": {},
     "output_type": "execute_result"
    }
   ],
   "source": [
    "df"
   ]
  },
  {
   "cell_type": "code",
   "execution_count": 53,
   "metadata": {},
   "outputs": [],
   "source": [
    "pr = model.predict(dtrain)\n",
    "model_info = model.get_dump()[0]"
   ]
  },
  {
   "cell_type": "code",
   "execution_count": 54,
   "metadata": {},
   "outputs": [
    {
     "name": "stdout",
     "output_type": "stream",
     "text": [
      "[0.28224894 0.28224894 0.28224894 0.28224894 0.28224894 0.59868765\n",
      " 0.59868765 0.28224894 0.28224894 0.59868765 0.28224894 0.28224894\n",
      " 0.28224894 0.28224894 0.28224894 0.28224894 0.28224894 0.59868765\n",
      " 0.59868765 0.28224894] \n",
      "\n",
      " 0:[age<55] yes=1,no=2,missing=2\n",
      "\t1:leaf=-0.933333337\n",
      "\t2:leaf=0.400000006\n",
      "\n"
     ]
    }
   ],
   "source": [
    "print(pr, '\\n\\n', model_info)"
   ]
  },
  {
   "cell_type": "code",
   "execution_count": 57,
   "metadata": {},
   "outputs": [],
   "source": [
    "def LogLoss(fact, proba):\n",
    "    logloss = (-1 / len(proba)) * np.sum(\n",
    "        fact * np.log(proba) + (1 - fact) * np.log(1 - proba)\n",
    "    )\n",
    "    return logloss"
   ]
  },
  {
   "cell_type": "code",
   "execution_count": 58,
   "metadata": {},
   "outputs": [
    {
     "data": {
      "text/plain": [
       "0.6036448453035165"
      ]
     },
     "execution_count": 58,
     "metadata": {},
     "output_type": "execute_result"
    }
   ],
   "source": [
    "LogLoss(df['response'],df['proba_0'])"
   ]
  },
  {
   "cell_type": "code",
   "execution_count": 59,
   "metadata": {},
   "outputs": [
    {
     "name": "stdout",
     "output_type": "stream",
     "text": [
      "0.6036448453035164\n"
     ]
    }
   ],
   "source": [
    "from sklearn.metrics import log_loss\n",
    "print(log_loss(df['response'], df['proba_0']))"
   ]
  },
  {
   "cell_type": "code",
   "execution_count": 61,
   "metadata": {},
   "outputs": [
    {
     "data": {
      "text/plain": [
       "<Axes: title={'center': 'Feature importance'}, xlabel='F score', ylabel='Features'>"
      ]
     },
     "execution_count": 61,
     "metadata": {},
     "output_type": "execute_result"
    },
    {
     "data": {
      "image/png": "[encoded data removed]",
      "text/plain": [
       "<Figure size 640x480 with 1 Axes>"
      ]
     },
     "metadata": {
      "image/png": {
       "height": 454,
       "width": 638
      }
     },
     "output_type": "display_data"
    }
   ],
   "source": [
    "xgboost.plot_importance(model, importance_type='cover')"
   ]
  },
  {
   "cell_type": "code",
   "execution_count": 62,
   "metadata": {},
   "outputs": [
    {
     "data": {
      "text/plain": [
       "5.0"
      ]
     },
     "execution_count": 62,
     "metadata": {},
     "output_type": "execute_result"
    }
   ],
   "source": [
    "cover = sum(df['const'] * (1 - df['const']))\n",
    "cover"
   ]
  },
  {
   "cell_type": "code",
   "execution_count": 64,
   "metadata": {},
   "outputs": [],
   "source": [
    "model = xgboost.train(params=params, num_boost_round=2, dtrain=dtrain)"
   ]
  },
  {
   "cell_type": "code",
   "execution_count": 65,
   "metadata": {},
   "outputs": [],
   "source": [
    "pr = model.predict(dtrain)"
   ]
  },
  {
   "cell_type": "code",
   "execution_count": 66,
   "metadata": {},
   "outputs": [
    {
     "name": "stdout",
     "output_type": "stream",
     "text": [
      "[0.41287592 0.1725412  0.1725412  0.41287592 0.1725412  0.44166934\n",
      " 0.44166934 0.41287592 0.41287592 0.44166934 0.1725412  0.41287592\n",
      " 0.41287592 0.41287592 0.1725412  0.41287592 0.41287592 0.44166934\n",
      " 0.44166934 0.41287592]\n"
     ]
    }
   ],
   "source": [
    "print(pr)"
   ]
  },
  {
   "cell_type": "code",
   "execution_count": 67,
   "metadata": {},
   "outputs": [
    {
     "name": "stdout",
     "output_type": "stream",
     "text": [
      "0:[age<55] yes=1,no=2,missing=2\n",
      "\t1:leaf=-0.933333337\n",
      "\t2:leaf=0.400000006\n",
      "\n",
      "0:[age<44] yes=1,no=2,missing=2\n",
      "\t1:leaf=0.581244171\n",
      "\t2:leaf=-0.634389997\n",
      "\n"
     ]
    }
   ],
   "source": [
    "for line in model.get_dump():\n",
    "    print(line)"
   ]
  },
  {
   "cell_type": "code",
   "execution_count": 68,
   "metadata": {},
   "outputs": [],
   "source": [
    "grad_1 = df['proba_0'] - df['response']\n",
    "hess_1 = df['proba_0'] * (1 - df['proba_0'])"
   ]
  },
  {
   "cell_type": "code",
   "execution_count": 69,
   "metadata": {},
   "outputs": [],
   "source": [
    "df['grad_1'] = grad_1\n",
    "df['hess_1'] = hess_1"
   ]
  },
  {
   "cell_type": "code",
   "execution_count": 70,
   "metadata": {},
   "outputs": [
    {
     "data": {
      "text/html": [
       "<div>\n",
       "<style scoped>\n",
       "    .dataframe tbody tr th:only-of-type {\n",
       "        vertical-align: middle;\n",
       "    }\n",
       "\n",
       "    .dataframe tbody tr th {\n",
       "        vertical-align: top;\n",
       "    }\n",
       "\n",
       "    .dataframe thead th {\n",
       "        text-align: right;\n",
       "    }\n",
       "</style>\n",
       "<table border=\"1\" class=\"dataframe\">\n",
       "  <thead>\n",
       "    <tr style=\"text-align: right;\">\n",
       "      <th></th>\n",
       "      <th>age</th>\n",
       "      <th>response</th>\n",
       "      <th>const</th>\n",
       "      <th>grad_0</th>\n",
       "      <th>hess_0</th>\n",
       "      <th>h_0</th>\n",
       "      <th>proba_0</th>\n",
       "      <th>grad_1</th>\n",
       "      <th>hess_1</th>\n",
       "    </tr>\n",
       "  </thead>\n",
       "  <tbody>\n",
       "    <tr>\n",
       "      <th>0</th>\n",
       "      <td>23</td>\n",
       "      <td>0</td>\n",
       "      <td>0.5</td>\n",
       "      <td>0.5</td>\n",
       "      <td>0.25</td>\n",
       "      <td>-0.933333</td>\n",
       "      <td>0.282249</td>\n",
       "      <td>0.282249</td>\n",
       "      <td>0.202584</td>\n",
       "    </tr>\n",
       "    <tr>\n",
       "      <th>1</th>\n",
       "      <td>45</td>\n",
       "      <td>0</td>\n",
       "      <td>0.5</td>\n",
       "      <td>0.5</td>\n",
       "      <td>0.25</td>\n",
       "      <td>-0.933333</td>\n",
       "      <td>0.282249</td>\n",
       "      <td>0.282249</td>\n",
       "      <td>0.202584</td>\n",
       "    </tr>\n",
       "    <tr>\n",
       "      <th>2</th>\n",
       "      <td>44</td>\n",
       "      <td>0</td>\n",
       "      <td>0.5</td>\n",
       "      <td>0.5</td>\n",
       "      <td>0.25</td>\n",
       "      <td>-0.933333</td>\n",
       "      <td>0.282249</td>\n",
       "      <td>0.282249</td>\n",
       "      <td>0.202584</td>\n",
       "    </tr>\n",
       "    <tr>\n",
       "      <th>3</th>\n",
       "      <td>20</td>\n",
       "      <td>0</td>\n",
       "      <td>0.5</td>\n",
       "      <td>0.5</td>\n",
       "      <td>0.25</td>\n",
       "      <td>-0.933333</td>\n",
       "      <td>0.282249</td>\n",
       "      <td>0.282249</td>\n",
       "      <td>0.202584</td>\n",
       "    </tr>\n",
       "    <tr>\n",
       "      <th>4</th>\n",
       "      <td>49</td>\n",
       "      <td>0</td>\n",
       "      <td>0.5</td>\n",
       "      <td>0.5</td>\n",
       "      <td>0.25</td>\n",
       "      <td>-0.933333</td>\n",
       "      <td>0.282249</td>\n",
       "      <td>0.282249</td>\n",
       "      <td>0.202584</td>\n",
       "    </tr>\n",
       "    <tr>\n",
       "      <th>5</th>\n",
       "      <td>56</td>\n",
       "      <td>1</td>\n",
       "      <td>0.5</td>\n",
       "      <td>-0.5</td>\n",
       "      <td>0.25</td>\n",
       "      <td>0.400000</td>\n",
       "      <td>0.598688</td>\n",
       "      <td>-0.401312</td>\n",
       "      <td>0.240261</td>\n",
       "    </tr>\n",
       "    <tr>\n",
       "      <th>6</th>\n",
       "      <td>55</td>\n",
       "      <td>1</td>\n",
       "      <td>0.5</td>\n",
       "      <td>-0.5</td>\n",
       "      <td>0.25</td>\n",
       "      <td>0.400000</td>\n",
       "      <td>0.598688</td>\n",
       "      <td>-0.401312</td>\n",
       "      <td>0.240261</td>\n",
       "    </tr>\n",
       "    <tr>\n",
       "      <th>7</th>\n",
       "      <td>43</td>\n",
       "      <td>1</td>\n",
       "      <td>0.5</td>\n",
       "      <td>-0.5</td>\n",
       "      <td>0.25</td>\n",
       "      <td>-0.933333</td>\n",
       "      <td>0.282249</td>\n",
       "      <td>-0.717751</td>\n",
       "      <td>0.202584</td>\n",
       "    </tr>\n",
       "    <tr>\n",
       "      <th>8</th>\n",
       "      <td>23</td>\n",
       "      <td>0</td>\n",
       "      <td>0.5</td>\n",
       "      <td>0.5</td>\n",
       "      <td>0.25</td>\n",
       "      <td>-0.933333</td>\n",
       "      <td>0.282249</td>\n",
       "      <td>0.282249</td>\n",
       "      <td>0.202584</td>\n",
       "    </tr>\n",
       "    <tr>\n",
       "      <th>9</th>\n",
       "      <td>67</td>\n",
       "      <td>0</td>\n",
       "      <td>0.5</td>\n",
       "      <td>0.5</td>\n",
       "      <td>0.25</td>\n",
       "      <td>0.400000</td>\n",
       "      <td>0.598688</td>\n",
       "      <td>0.598688</td>\n",
       "      <td>0.240261</td>\n",
       "    </tr>\n",
       "    <tr>\n",
       "      <th>10</th>\n",
       "      <td>54</td>\n",
       "      <td>0</td>\n",
       "      <td>0.5</td>\n",
       "      <td>0.5</td>\n",
       "      <td>0.25</td>\n",
       "      <td>-0.933333</td>\n",
       "      <td>0.282249</td>\n",
       "      <td>0.282249</td>\n",
       "      <td>0.202584</td>\n",
       "    </tr>\n",
       "    <tr>\n",
       "      <th>11</th>\n",
       "      <td>43</td>\n",
       "      <td>0</td>\n",
       "      <td>0.5</td>\n",
       "      <td>0.5</td>\n",
       "      <td>0.25</td>\n",
       "      <td>-0.933333</td>\n",
       "      <td>0.282249</td>\n",
       "      <td>0.282249</td>\n",
       "      <td>0.202584</td>\n",
       "    </tr>\n",
       "    <tr>\n",
       "      <th>12</th>\n",
       "      <td>22</td>\n",
       "      <td>0</td>\n",
       "      <td>0.5</td>\n",
       "      <td>0.5</td>\n",
       "      <td>0.25</td>\n",
       "      <td>-0.933333</td>\n",
       "      <td>0.282249</td>\n",
       "      <td>0.282249</td>\n",
       "      <td>0.202584</td>\n",
       "    </tr>\n",
       "    <tr>\n",
       "      <th>13</th>\n",
       "      <td>25</td>\n",
       "      <td>0</td>\n",
       "      <td>0.5</td>\n",
       "      <td>0.5</td>\n",
       "      <td>0.25</td>\n",
       "      <td>-0.933333</td>\n",
       "      <td>0.282249</td>\n",
       "      <td>0.282249</td>\n",
       "      <td>0.202584</td>\n",
       "    </tr>\n",
       "    <tr>\n",
       "      <th>14</th>\n",
       "      <td>47</td>\n",
       "      <td>0</td>\n",
       "      <td>0.5</td>\n",
       "      <td>0.5</td>\n",
       "      <td>0.25</td>\n",
       "      <td>-0.933333</td>\n",
       "      <td>0.282249</td>\n",
       "      <td>0.282249</td>\n",
       "      <td>0.202584</td>\n",
       "    </tr>\n",
       "    <tr>\n",
       "      <th>15</th>\n",
       "      <td>36</td>\n",
       "      <td>1</td>\n",
       "      <td>0.5</td>\n",
       "      <td>-0.5</td>\n",
       "      <td>0.25</td>\n",
       "      <td>-0.933333</td>\n",
       "      <td>0.282249</td>\n",
       "      <td>-0.717751</td>\n",
       "      <td>0.202584</td>\n",
       "    </tr>\n",
       "    <tr>\n",
       "      <th>16</th>\n",
       "      <td>20</td>\n",
       "      <td>1</td>\n",
       "      <td>0.5</td>\n",
       "      <td>-0.5</td>\n",
       "      <td>0.25</td>\n",
       "      <td>-0.933333</td>\n",
       "      <td>0.282249</td>\n",
       "      <td>-0.717751</td>\n",
       "      <td>0.202584</td>\n",
       "    </tr>\n",
       "    <tr>\n",
       "      <th>17</th>\n",
       "      <td>56</td>\n",
       "      <td>1</td>\n",
       "      <td>0.5</td>\n",
       "      <td>-0.5</td>\n",
       "      <td>0.25</td>\n",
       "      <td>0.400000</td>\n",
       "      <td>0.598688</td>\n",
       "      <td>-0.401312</td>\n",
       "      <td>0.240261</td>\n",
       "    </tr>\n",
       "    <tr>\n",
       "      <th>18</th>\n",
       "      <td>56</td>\n",
       "      <td>0</td>\n",
       "      <td>0.5</td>\n",
       "      <td>0.5</td>\n",
       "      <td>0.25</td>\n",
       "      <td>0.400000</td>\n",
       "      <td>0.598688</td>\n",
       "      <td>0.598688</td>\n",
       "      <td>0.240261</td>\n",
       "    </tr>\n",
       "    <tr>\n",
       "      <th>19</th>\n",
       "      <td>34</td>\n",
       "      <td>1</td>\n",
       "      <td>0.5</td>\n",
       "      <td>-0.5</td>\n",
       "      <td>0.25</td>\n",
       "      <td>-0.933333</td>\n",
       "      <td>0.282249</td>\n",
       "      <td>-0.717751</td>\n",
       "      <td>0.202584</td>\n",
       "    </tr>\n",
       "  </tbody>\n",
       "</table>\n",
       "</div>"
      ],
      "text/plain": [
       "    age  response  const  grad_0  hess_0       h_0   proba_0    grad_1  \\\n",
       "0    23         0    0.5     0.5    0.25 -0.933333  0.282249  0.282249   \n",
       "1    45         0    0.5     0.5    0.25 -0.933333  0.282249  0.282249   \n",
       "2    44         0    0.5     0.5    0.25 -0.933333  0.282249  0.282249   \n",
       "3    20         0    0.5     0.5    0.25 -0.933333  0.282249  0.282249   \n",
       "4    49         0    0.5     0.5    0.25 -0.933333  0.282249  0.282249   \n",
       "5    56         1    0.5    -0.5    0.25  0.400000  0.598688 -0.401312   \n",
       "6    55         1    0.5    -0.5    0.25  0.400000  0.598688 -0.401312   \n",
       "7    43         1    0.5    -0.5    0.25 -0.933333  0.282249 -0.717751   \n",
       "8    23         0    0.5     0.5    0.25 -0.933333  0.282249  0.282249   \n",
       "9    67         0    0.5     0.5    0.25  0.400000  0.598688  0.598688   \n",
       "10   54         0    0.5     0.5    0.25 -0.933333  0.282249  0.282249   \n",
       "11   43         0    0.5     0.5    0.25 -0.933333  0.282249  0.282249   \n",
       "12   22         0    0.5     0.5    0.25 -0.933333  0.282249  0.282249   \n",
       "13   25         0    0.5     0.5    0.25 -0.933333  0.282249  0.282249   \n",
       "14   47         0    0.5     0.5    0.25 -0.933333  0.282249  0.282249   \n",
       "15   36         1    0.5    -0.5    0.25 -0.933333  0.282249 -0.717751   \n",
       "16   20         1    0.5    -0.5    0.25 -0.933333  0.282249 -0.717751   \n",
       "17   56         1    0.5    -0.5    0.25  0.400000  0.598688 -0.401312   \n",
       "18   56         0    0.5     0.5    0.25  0.400000  0.598688  0.598688   \n",
       "19   34         1    0.5    -0.5    0.25 -0.933333  0.282249 -0.717751   \n",
       "\n",
       "      hess_1  \n",
       "0   0.202584  \n",
       "1   0.202584  \n",
       "2   0.202584  \n",
       "3   0.202584  \n",
       "4   0.202584  \n",
       "5   0.240261  \n",
       "6   0.240261  \n",
       "7   0.202584  \n",
       "8   0.202584  \n",
       "9   0.240261  \n",
       "10  0.202584  \n",
       "11  0.202584  \n",
       "12  0.202584  \n",
       "13  0.202584  \n",
       "14  0.202584  \n",
       "15  0.202584  \n",
       "16  0.202584  \n",
       "17  0.240261  \n",
       "18  0.240261  \n",
       "19  0.202584  "
      ]
     },
     "execution_count": 70,
     "metadata": {},
     "output_type": "execute_result"
    }
   ],
   "source": [
    "df"
   ]
  },
  {
   "cell_type": "code",
   "execution_count": 71,
   "metadata": {},
   "outputs": [],
   "source": [
    "eta = 1.0\n",
    "lambda_ = 0"
   ]
  },
  {
   "cell_type": "code",
   "execution_count": 72,
   "metadata": {},
   "outputs": [],
   "source": [
    "G_left2 = df[df['age'] < 44].sum()['grad_1']\n",
    "H_left2 = df[df['age'] < 44].sum()['hess_1']"
   ]
  },
  {
   "cell_type": "code",
   "execution_count": 73,
   "metadata": {},
   "outputs": [],
   "source": [
    "weight_left2 = eta * (-(G_left2 / (H_left2 + lambda_)))"
   ]
  },
  {
   "cell_type": "code",
   "execution_count": 74,
   "metadata": {},
   "outputs": [
    {
     "data": {
      "text/plain": [
       "-1.1775105696516812"
      ]
     },
     "execution_count": 74,
     "metadata": {},
     "output_type": "execute_result"
    }
   ],
   "source": [
    "G_left2"
   ]
  },
  {
   "cell_type": "code",
   "execution_count": 75,
   "metadata": {},
   "outputs": [
    {
     "data": {
      "text/plain": [
       "2.025844771905521"
      ]
     },
     "execution_count": 75,
     "metadata": {},
     "output_type": "execute_result"
    }
   ],
   "source": [
    "H_left2"
   ]
  },
  {
   "cell_type": "code",
   "execution_count": 76,
   "metadata": {},
   "outputs": [
    {
     "data": {
      "text/plain": [
       "0.5812442226479713"
      ]
     },
     "execution_count": 76,
     "metadata": {},
     "output_type": "execute_result"
    }
   ],
   "source": [
    "weight_left2"
   ]
  },
  {
   "cell_type": "code",
   "execution_count": 77,
   "metadata": {},
   "outputs": [],
   "source": [
    "G_right2 = df[df['age'] >= 44].sum()['grad_1']\n",
    "H_right2 = df[df['age'] >= 44].sum()['hess_1']"
   ]
  },
  {
   "cell_type": "code",
   "execution_count": 78,
   "metadata": {},
   "outputs": [],
   "source": [
    "weight_right2 = eta * (- (G_right2 / (H_right2 + lambda_)))"
   ]
  },
  {
   "cell_type": "code",
   "execution_count": 79,
   "metadata": {},
   "outputs": [
    {
     "data": {
      "text/plain": [
       "1.4046830164572017"
      ]
     },
     "execution_count": 79,
     "metadata": {},
     "output_type": "execute_result"
    }
   ],
   "source": [
    "G_right2"
   ]
  },
  {
   "cell_type": "code",
   "execution_count": 80,
   "metadata": {},
   "outputs": [
    {
     "data": {
      "text/plain": [
       "2.214226114518142"
      ]
     },
     "execution_count": 80,
     "metadata": {},
     "output_type": "execute_result"
    }
   ],
   "source": [
    "H_right2"
   ]
  },
  {
   "cell_type": "code",
   "execution_count": 81,
   "metadata": {},
   "outputs": [
    {
     "data": {
      "text/plain": [
       "-0.6343900504320841"
      ]
     },
     "execution_count": 81,
     "metadata": {},
     "output_type": "execute_result"
    }
   ],
   "source": [
    "weight_right2"
   ]
  },
  {
   "cell_type": "code",
   "execution_count": 82,
   "metadata": {},
   "outputs": [],
   "source": [
    "df['h_1'] = np.where(df['age'] < 44, 0.581244171, -0.624389997)"
   ]
  },
  {
   "cell_type": "code",
   "execution_count": 83,
   "metadata": {},
   "outputs": [
    {
     "data": {
      "text/html": [
       "<div>\n",
       "<style scoped>\n",
       "    .dataframe tbody tr th:only-of-type {\n",
       "        vertical-align: middle;\n",
       "    }\n",
       "\n",
       "    .dataframe tbody tr th {\n",
       "        vertical-align: top;\n",
       "    }\n",
       "\n",
       "    .dataframe thead th {\n",
       "        text-align: right;\n",
       "    }\n",
       "</style>\n",
       "<table border=\"1\" class=\"dataframe\">\n",
       "  <thead>\n",
       "    <tr style=\"text-align: right;\">\n",
       "      <th></th>\n",
       "      <th>age</th>\n",
       "      <th>response</th>\n",
       "      <th>const</th>\n",
       "      <th>grad_0</th>\n",
       "      <th>hess_0</th>\n",
       "      <th>h_0</th>\n",
       "      <th>proba_0</th>\n",
       "      <th>grad_1</th>\n",
       "      <th>hess_1</th>\n",
       "      <th>h_1</th>\n",
       "    </tr>\n",
       "  </thead>\n",
       "  <tbody>\n",
       "    <tr>\n",
       "      <th>0</th>\n",
       "      <td>23</td>\n",
       "      <td>0</td>\n",
       "      <td>0.5</td>\n",
       "      <td>0.5</td>\n",
       "      <td>0.25</td>\n",
       "      <td>-0.933333</td>\n",
       "      <td>0.282249</td>\n",
       "      <td>0.282249</td>\n",
       "      <td>0.202584</td>\n",
       "      <td>0.581244</td>\n",
       "    </tr>\n",
       "    <tr>\n",
       "      <th>1</th>\n",
       "      <td>45</td>\n",
       "      <td>0</td>\n",
       "      <td>0.5</td>\n",
       "      <td>0.5</td>\n",
       "      <td>0.25</td>\n",
       "      <td>-0.933333</td>\n",
       "      <td>0.282249</td>\n",
       "      <td>0.282249</td>\n",
       "      <td>0.202584</td>\n",
       "      <td>-0.624390</td>\n",
       "    </tr>\n",
       "    <tr>\n",
       "      <th>2</th>\n",
       "      <td>44</td>\n",
       "      <td>0</td>\n",
       "      <td>0.5</td>\n",
       "      <td>0.5</td>\n",
       "      <td>0.25</td>\n",
       "      <td>-0.933333</td>\n",
       "      <td>0.282249</td>\n",
       "      <td>0.282249</td>\n",
       "      <td>0.202584</td>\n",
       "      <td>-0.624390</td>\n",
       "    </tr>\n",
       "    <tr>\n",
       "      <th>3</th>\n",
       "      <td>20</td>\n",
       "      <td>0</td>\n",
       "      <td>0.5</td>\n",
       "      <td>0.5</td>\n",
       "      <td>0.25</td>\n",
       "      <td>-0.933333</td>\n",
       "      <td>0.282249</td>\n",
       "      <td>0.282249</td>\n",
       "      <td>0.202584</td>\n",
       "      <td>0.581244</td>\n",
       "    </tr>\n",
       "    <tr>\n",
       "      <th>4</th>\n",
       "      <td>49</td>\n",
       "      <td>0</td>\n",
       "      <td>0.5</td>\n",
       "      <td>0.5</td>\n",
       "      <td>0.25</td>\n",
       "      <td>-0.933333</td>\n",
       "      <td>0.282249</td>\n",
       "      <td>0.282249</td>\n",
       "      <td>0.202584</td>\n",
       "      <td>-0.624390</td>\n",
       "    </tr>\n",
       "    <tr>\n",
       "      <th>5</th>\n",
       "      <td>56</td>\n",
       "      <td>1</td>\n",
       "      <td>0.5</td>\n",
       "      <td>-0.5</td>\n",
       "      <td>0.25</td>\n",
       "      <td>0.400000</td>\n",
       "      <td>0.598688</td>\n",
       "      <td>-0.401312</td>\n",
       "      <td>0.240261</td>\n",
       "      <td>-0.624390</td>\n",
       "    </tr>\n",
       "    <tr>\n",
       "      <th>6</th>\n",
       "      <td>55</td>\n",
       "      <td>1</td>\n",
       "      <td>0.5</td>\n",
       "      <td>-0.5</td>\n",
       "      <td>0.25</td>\n",
       "      <td>0.400000</td>\n",
       "      <td>0.598688</td>\n",
       "      <td>-0.401312</td>\n",
       "      <td>0.240261</td>\n",
       "      <td>-0.624390</td>\n",
       "    </tr>\n",
       "    <tr>\n",
       "      <th>7</th>\n",
       "      <td>43</td>\n",
       "      <td>1</td>\n",
       "      <td>0.5</td>\n",
       "      <td>-0.5</td>\n",
       "      <td>0.25</td>\n",
       "      <td>-0.933333</td>\n",
       "      <td>0.282249</td>\n",
       "      <td>-0.717751</td>\n",
       "      <td>0.202584</td>\n",
       "      <td>0.581244</td>\n",
       "    </tr>\n",
       "    <tr>\n",
       "      <th>8</th>\n",
       "      <td>23</td>\n",
       "      <td>0</td>\n",
       "      <td>0.5</td>\n",
       "      <td>0.5</td>\n",
       "      <td>0.25</td>\n",
       "      <td>-0.933333</td>\n",
       "      <td>0.282249</td>\n",
       "      <td>0.282249</td>\n",
       "      <td>0.202584</td>\n",
       "      <td>0.581244</td>\n",
       "    </tr>\n",
       "    <tr>\n",
       "      <th>9</th>\n",
       "      <td>67</td>\n",
       "      <td>0</td>\n",
       "      <td>0.5</td>\n",
       "      <td>0.5</td>\n",
       "      <td>0.25</td>\n",
       "      <td>0.400000</td>\n",
       "      <td>0.598688</td>\n",
       "      <td>0.598688</td>\n",
       "      <td>0.240261</td>\n",
       "      <td>-0.624390</td>\n",
       "    </tr>\n",
       "    <tr>\n",
       "      <th>10</th>\n",
       "      <td>54</td>\n",
       "      <td>0</td>\n",
       "      <td>0.5</td>\n",
       "      <td>0.5</td>\n",
       "      <td>0.25</td>\n",
       "      <td>-0.933333</td>\n",
       "      <td>0.282249</td>\n",
       "      <td>0.282249</td>\n",
       "      <td>0.202584</td>\n",
       "      <td>-0.624390</td>\n",
       "    </tr>\n",
       "    <tr>\n",
       "      <th>11</th>\n",
       "      <td>43</td>\n",
       "      <td>0</td>\n",
       "      <td>0.5</td>\n",
       "      <td>0.5</td>\n",
       "      <td>0.25</td>\n",
       "      <td>-0.933333</td>\n",
       "      <td>0.282249</td>\n",
       "      <td>0.282249</td>\n",
       "      <td>0.202584</td>\n",
       "      <td>0.581244</td>\n",
       "    </tr>\n",
       "    <tr>\n",
       "      <th>12</th>\n",
       "      <td>22</td>\n",
       "      <td>0</td>\n",
       "      <td>0.5</td>\n",
       "      <td>0.5</td>\n",
       "      <td>0.25</td>\n",
       "      <td>-0.933333</td>\n",
       "      <td>0.282249</td>\n",
       "      <td>0.282249</td>\n",
       "      <td>0.202584</td>\n",
       "      <td>0.581244</td>\n",
       "    </tr>\n",
       "    <tr>\n",
       "      <th>13</th>\n",
       "      <td>25</td>\n",
       "      <td>0</td>\n",
       "      <td>0.5</td>\n",
       "      <td>0.5</td>\n",
       "      <td>0.25</td>\n",
       "      <td>-0.933333</td>\n",
       "      <td>0.282249</td>\n",
       "      <td>0.282249</td>\n",
       "      <td>0.202584</td>\n",
       "      <td>0.581244</td>\n",
       "    </tr>\n",
       "    <tr>\n",
       "      <th>14</th>\n",
       "      <td>47</td>\n",
       "      <td>0</td>\n",
       "      <td>0.5</td>\n",
       "      <td>0.5</td>\n",
       "      <td>0.25</td>\n",
       "      <td>-0.933333</td>\n",
       "      <td>0.282249</td>\n",
       "      <td>0.282249</td>\n",
       "      <td>0.202584</td>\n",
       "      <td>-0.624390</td>\n",
       "    </tr>\n",
       "    <tr>\n",
       "      <th>15</th>\n",
       "      <td>36</td>\n",
       "      <td>1</td>\n",
       "      <td>0.5</td>\n",
       "      <td>-0.5</td>\n",
       "      <td>0.25</td>\n",
       "      <td>-0.933333</td>\n",
       "      <td>0.282249</td>\n",
       "      <td>-0.717751</td>\n",
       "      <td>0.202584</td>\n",
       "      <td>0.581244</td>\n",
       "    </tr>\n",
       "    <tr>\n",
       "      <th>16</th>\n",
       "      <td>20</td>\n",
       "      <td>1</td>\n",
       "      <td>0.5</td>\n",
       "      <td>-0.5</td>\n",
       "      <td>0.25</td>\n",
       "      <td>-0.933333</td>\n",
       "      <td>0.282249</td>\n",
       "      <td>-0.717751</td>\n",
       "      <td>0.202584</td>\n",
       "      <td>0.581244</td>\n",
       "    </tr>\n",
       "    <tr>\n",
       "      <th>17</th>\n",
       "      <td>56</td>\n",
       "      <td>1</td>\n",
       "      <td>0.5</td>\n",
       "      <td>-0.5</td>\n",
       "      <td>0.25</td>\n",
       "      <td>0.400000</td>\n",
       "      <td>0.598688</td>\n",
       "      <td>-0.401312</td>\n",
       "      <td>0.240261</td>\n",
       "      <td>-0.624390</td>\n",
       "    </tr>\n",
       "    <tr>\n",
       "      <th>18</th>\n",
       "      <td>56</td>\n",
       "      <td>0</td>\n",
       "      <td>0.5</td>\n",
       "      <td>0.5</td>\n",
       "      <td>0.25</td>\n",
       "      <td>0.400000</td>\n",
       "      <td>0.598688</td>\n",
       "      <td>0.598688</td>\n",
       "      <td>0.240261</td>\n",
       "      <td>-0.624390</td>\n",
       "    </tr>\n",
       "    <tr>\n",
       "      <th>19</th>\n",
       "      <td>34</td>\n",
       "      <td>1</td>\n",
       "      <td>0.5</td>\n",
       "      <td>-0.5</td>\n",
       "      <td>0.25</td>\n",
       "      <td>-0.933333</td>\n",
       "      <td>0.282249</td>\n",
       "      <td>-0.717751</td>\n",
       "      <td>0.202584</td>\n",
       "      <td>0.581244</td>\n",
       "    </tr>\n",
       "  </tbody>\n",
       "</table>\n",
       "</div>"
      ],
      "text/plain": [
       "    age  response  const  grad_0  hess_0       h_0   proba_0    grad_1  \\\n",
       "0    23         0    0.5     0.5    0.25 -0.933333  0.282249  0.282249   \n",
       "1    45         0    0.5     0.5    0.25 -0.933333  0.282249  0.282249   \n",
       "2    44         0    0.5     0.5    0.25 -0.933333  0.282249  0.282249   \n",
       "3    20         0    0.5     0.5    0.25 -0.933333  0.282249  0.282249   \n",
       "4    49         0    0.5     0.5    0.25 -0.933333  0.282249  0.282249   \n",
       "5    56         1    0.5    -0.5    0.25  0.400000  0.598688 -0.401312   \n",
       "6    55         1    0.5    -0.5    0.25  0.400000  0.598688 -0.401312   \n",
       "7    43         1    0.5    -0.5    0.25 -0.933333  0.282249 -0.717751   \n",
       "8    23         0    0.5     0.5    0.25 -0.933333  0.282249  0.282249   \n",
       "9    67         0    0.5     0.5    0.25  0.400000  0.598688  0.598688   \n",
       "10   54         0    0.5     0.5    0.25 -0.933333  0.282249  0.282249   \n",
       "11   43         0    0.5     0.5    0.25 -0.933333  0.282249  0.282249   \n",
       "12   22         0    0.5     0.5    0.25 -0.933333  0.282249  0.282249   \n",
       "13   25         0    0.5     0.5    0.25 -0.933333  0.282249  0.282249   \n",
       "14   47         0    0.5     0.5    0.25 -0.933333  0.282249  0.282249   \n",
       "15   36         1    0.5    -0.5    0.25 -0.933333  0.282249 -0.717751   \n",
       "16   20         1    0.5    -0.5    0.25 -0.933333  0.282249 -0.717751   \n",
       "17   56         1    0.5    -0.5    0.25  0.400000  0.598688 -0.401312   \n",
       "18   56         0    0.5     0.5    0.25  0.400000  0.598688  0.598688   \n",
       "19   34         1    0.5    -0.5    0.25 -0.933333  0.282249 -0.717751   \n",
       "\n",
       "      hess_1       h_1  \n",
       "0   0.202584  0.581244  \n",
       "1   0.202584 -0.624390  \n",
       "2   0.202584 -0.624390  \n",
       "3   0.202584  0.581244  \n",
       "4   0.202584 -0.624390  \n",
       "5   0.240261 -0.624390  \n",
       "6   0.240261 -0.624390  \n",
       "7   0.202584  0.581244  \n",
       "8   0.202584  0.581244  \n",
       "9   0.240261 -0.624390  \n",
       "10  0.202584 -0.624390  \n",
       "11  0.202584  0.581244  \n",
       "12  0.202584  0.581244  \n",
       "13  0.202584  0.581244  \n",
       "14  0.202584 -0.624390  \n",
       "15  0.202584  0.581244  \n",
       "16  0.202584  0.581244  \n",
       "17  0.240261 -0.624390  \n",
       "18  0.240261 -0.624390  \n",
       "19  0.202584  0.581244  "
      ]
     },
     "execution_count": 83,
     "metadata": {},
     "output_type": "execute_result"
    }
   ],
   "source": [
    "df"
   ]
  },
  {
   "cell_type": "code",
   "execution_count": 84,
   "metadata": {},
   "outputs": [],
   "source": [
    "base_score = 0.5"
   ]
  },
  {
   "cell_type": "code",
   "execution_count": 85,
   "metadata": {},
   "outputs": [],
   "source": [
    "df['proba_1'] = sigmoid(\n",
    "    np.log(base_score / (1 - base_score)) + (df['h_0'] + df['h_1'])\n",
    ")"
   ]
  },
  {
   "cell_type": "code",
   "execution_count": 87,
   "metadata": {},
   "outputs": [
    {
     "data": {
      "text/html": [
       "<div>\n",
       "<style scoped>\n",
       "    .dataframe tbody tr th:only-of-type {\n",
       "        vertical-align: middle;\n",
       "    }\n",
       "\n",
       "    .dataframe tbody tr th {\n",
       "        vertical-align: top;\n",
       "    }\n",
       "\n",
       "    .dataframe thead th {\n",
       "        text-align: right;\n",
       "    }\n",
       "</style>\n",
       "<table border=\"1\" class=\"dataframe\">\n",
       "  <thead>\n",
       "    <tr style=\"text-align: right;\">\n",
       "      <th></th>\n",
       "      <th>age</th>\n",
       "      <th>response</th>\n",
       "      <th>const</th>\n",
       "      <th>grad_0</th>\n",
       "      <th>hess_0</th>\n",
       "      <th>h_0</th>\n",
       "      <th>proba_0</th>\n",
       "      <th>grad_1</th>\n",
       "      <th>hess_1</th>\n",
       "      <th>h_1</th>\n",
       "      <th>proba_1</th>\n",
       "    </tr>\n",
       "  </thead>\n",
       "  <tbody>\n",
       "    <tr>\n",
       "      <th>0</th>\n",
       "      <td>23</td>\n",
       "      <td>0</td>\n",
       "      <td>0.5</td>\n",
       "      <td>0.5</td>\n",
       "      <td>0.25</td>\n",
       "      <td>-0.933333</td>\n",
       "      <td>0.282249</td>\n",
       "      <td>0.282249</td>\n",
       "      <td>0.202584</td>\n",
       "      <td>0.581244</td>\n",
       "      <td>0.412876</td>\n",
       "    </tr>\n",
       "    <tr>\n",
       "      <th>1</th>\n",
       "      <td>45</td>\n",
       "      <td>0</td>\n",
       "      <td>0.5</td>\n",
       "      <td>0.5</td>\n",
       "      <td>0.25</td>\n",
       "      <td>-0.933333</td>\n",
       "      <td>0.282249</td>\n",
       "      <td>0.282249</td>\n",
       "      <td>0.202584</td>\n",
       "      <td>-0.624390</td>\n",
       "      <td>0.173974</td>\n",
       "    </tr>\n",
       "    <tr>\n",
       "      <th>2</th>\n",
       "      <td>44</td>\n",
       "      <td>0</td>\n",
       "      <td>0.5</td>\n",
       "      <td>0.5</td>\n",
       "      <td>0.25</td>\n",
       "      <td>-0.933333</td>\n",
       "      <td>0.282249</td>\n",
       "      <td>0.282249</td>\n",
       "      <td>0.202584</td>\n",
       "      <td>-0.624390</td>\n",
       "      <td>0.173974</td>\n",
       "    </tr>\n",
       "    <tr>\n",
       "      <th>3</th>\n",
       "      <td>20</td>\n",
       "      <td>0</td>\n",
       "      <td>0.5</td>\n",
       "      <td>0.5</td>\n",
       "      <td>0.25</td>\n",
       "      <td>-0.933333</td>\n",
       "      <td>0.282249</td>\n",
       "      <td>0.282249</td>\n",
       "      <td>0.202584</td>\n",
       "      <td>0.581244</td>\n",
       "      <td>0.412876</td>\n",
       "    </tr>\n",
       "    <tr>\n",
       "      <th>4</th>\n",
       "      <td>49</td>\n",
       "      <td>0</td>\n",
       "      <td>0.5</td>\n",
       "      <td>0.5</td>\n",
       "      <td>0.25</td>\n",
       "      <td>-0.933333</td>\n",
       "      <td>0.282249</td>\n",
       "      <td>0.282249</td>\n",
       "      <td>0.202584</td>\n",
       "      <td>-0.624390</td>\n",
       "      <td>0.173974</td>\n",
       "    </tr>\n",
       "    <tr>\n",
       "      <th>5</th>\n",
       "      <td>56</td>\n",
       "      <td>1</td>\n",
       "      <td>0.5</td>\n",
       "      <td>-0.5</td>\n",
       "      <td>0.25</td>\n",
       "      <td>0.400000</td>\n",
       "      <td>0.598688</td>\n",
       "      <td>-0.401312</td>\n",
       "      <td>0.240261</td>\n",
       "      <td>-0.624390</td>\n",
       "      <td>0.444137</td>\n",
       "    </tr>\n",
       "    <tr>\n",
       "      <th>6</th>\n",
       "      <td>55</td>\n",
       "      <td>1</td>\n",
       "      <td>0.5</td>\n",
       "      <td>-0.5</td>\n",
       "      <td>0.25</td>\n",
       "      <td>0.400000</td>\n",
       "      <td>0.598688</td>\n",
       "      <td>-0.401312</td>\n",
       "      <td>0.240261</td>\n",
       "      <td>-0.624390</td>\n",
       "      <td>0.444137</td>\n",
       "    </tr>\n",
       "    <tr>\n",
       "      <th>7</th>\n",
       "      <td>43</td>\n",
       "      <td>1</td>\n",
       "      <td>0.5</td>\n",
       "      <td>-0.5</td>\n",
       "      <td>0.25</td>\n",
       "      <td>-0.933333</td>\n",
       "      <td>0.282249</td>\n",
       "      <td>-0.717751</td>\n",
       "      <td>0.202584</td>\n",
       "      <td>0.581244</td>\n",
       "      <td>0.412876</td>\n",
       "    </tr>\n",
       "    <tr>\n",
       "      <th>8</th>\n",
       "      <td>23</td>\n",
       "      <td>0</td>\n",
       "      <td>0.5</td>\n",
       "      <td>0.5</td>\n",
       "      <td>0.25</td>\n",
       "      <td>-0.933333</td>\n",
       "      <td>0.282249</td>\n",
       "      <td>0.282249</td>\n",
       "      <td>0.202584</td>\n",
       "      <td>0.581244</td>\n",
       "      <td>0.412876</td>\n",
       "    </tr>\n",
       "    <tr>\n",
       "      <th>9</th>\n",
       "      <td>67</td>\n",
       "      <td>0</td>\n",
       "      <td>0.5</td>\n",
       "      <td>0.5</td>\n",
       "      <td>0.25</td>\n",
       "      <td>0.400000</td>\n",
       "      <td>0.598688</td>\n",
       "      <td>0.598688</td>\n",
       "      <td>0.240261</td>\n",
       "      <td>-0.624390</td>\n",
       "      <td>0.444137</td>\n",
       "    </tr>\n",
       "    <tr>\n",
       "      <th>10</th>\n",
       "      <td>54</td>\n",
       "      <td>0</td>\n",
       "      <td>0.5</td>\n",
       "      <td>0.5</td>\n",
       "      <td>0.25</td>\n",
       "      <td>-0.933333</td>\n",
       "      <td>0.282249</td>\n",
       "      <td>0.282249</td>\n",
       "      <td>0.202584</td>\n",
       "      <td>-0.624390</td>\n",
       "      <td>0.173974</td>\n",
       "    </tr>\n",
       "    <tr>\n",
       "      <th>11</th>\n",
       "      <td>43</td>\n",
       "      <td>0</td>\n",
       "      <td>0.5</td>\n",
       "      <td>0.5</td>\n",
       "      <td>0.25</td>\n",
       "      <td>-0.933333</td>\n",
       "      <td>0.282249</td>\n",
       "      <td>0.282249</td>\n",
       "      <td>0.202584</td>\n",
       "      <td>0.581244</td>\n",
       "      <td>0.412876</td>\n",
       "    </tr>\n",
       "    <tr>\n",
       "      <th>12</th>\n",
       "      <td>22</td>\n",
       "      <td>0</td>\n",
       "      <td>0.5</td>\n",
       "      <td>0.5</td>\n",
       "      <td>0.25</td>\n",
       "      <td>-0.933333</td>\n",
       "      <td>0.282249</td>\n",
       "      <td>0.282249</td>\n",
       "      <td>0.202584</td>\n",
       "      <td>0.581244</td>\n",
       "      <td>0.412876</td>\n",
       "    </tr>\n",
       "    <tr>\n",
       "      <th>13</th>\n",
       "      <td>25</td>\n",
       "      <td>0</td>\n",
       "      <td>0.5</td>\n",
       "      <td>0.5</td>\n",
       "      <td>0.25</td>\n",
       "      <td>-0.933333</td>\n",
       "      <td>0.282249</td>\n",
       "      <td>0.282249</td>\n",
       "      <td>0.202584</td>\n",
       "      <td>0.581244</td>\n",
       "      <td>0.412876</td>\n",
       "    </tr>\n",
       "    <tr>\n",
       "      <th>14</th>\n",
       "      <td>47</td>\n",
       "      <td>0</td>\n",
       "      <td>0.5</td>\n",
       "      <td>0.5</td>\n",
       "      <td>0.25</td>\n",
       "      <td>-0.933333</td>\n",
       "      <td>0.282249</td>\n",
       "      <td>0.282249</td>\n",
       "      <td>0.202584</td>\n",
       "      <td>-0.624390</td>\n",
       "      <td>0.173974</td>\n",
       "    </tr>\n",
       "    <tr>\n",
       "      <th>15</th>\n",
       "      <td>36</td>\n",
       "      <td>1</td>\n",
       "      <td>0.5</td>\n",
       "      <td>-0.5</td>\n",
       "      <td>0.25</td>\n",
       "      <td>-0.933333</td>\n",
       "      <td>0.282249</td>\n",
       "      <td>-0.717751</td>\n",
       "      <td>0.202584</td>\n",
       "      <td>0.581244</td>\n",
       "      <td>0.412876</td>\n",
       "    </tr>\n",
       "    <tr>\n",
       "      <th>16</th>\n",
       "      <td>20</td>\n",
       "      <td>1</td>\n",
       "      <td>0.5</td>\n",
       "      <td>-0.5</td>\n",
       "      <td>0.25</td>\n",
       "      <td>-0.933333</td>\n",
       "      <td>0.282249</td>\n",
       "      <td>-0.717751</td>\n",
       "      <td>0.202584</td>\n",
       "      <td>0.581244</td>\n",
       "      <td>0.412876</td>\n",
       "    </tr>\n",
       "    <tr>\n",
       "      <th>17</th>\n",
       "      <td>56</td>\n",
       "      <td>1</td>\n",
       "      <td>0.5</td>\n",
       "      <td>-0.5</td>\n",
       "      <td>0.25</td>\n",
       "      <td>0.400000</td>\n",
       "      <td>0.598688</td>\n",
       "      <td>-0.401312</td>\n",
       "      <td>0.240261</td>\n",
       "      <td>-0.624390</td>\n",
       "      <td>0.444137</td>\n",
       "    </tr>\n",
       "    <tr>\n",
       "      <th>18</th>\n",
       "      <td>56</td>\n",
       "      <td>0</td>\n",
       "      <td>0.5</td>\n",
       "      <td>0.5</td>\n",
       "      <td>0.25</td>\n",
       "      <td>0.400000</td>\n",
       "      <td>0.598688</td>\n",
       "      <td>0.598688</td>\n",
       "      <td>0.240261</td>\n",
       "      <td>-0.624390</td>\n",
       "      <td>0.444137</td>\n",
       "    </tr>\n",
       "    <tr>\n",
       "      <th>19</th>\n",
       "      <td>34</td>\n",
       "      <td>1</td>\n",
       "      <td>0.5</td>\n",
       "      <td>-0.5</td>\n",
       "      <td>0.25</td>\n",
       "      <td>-0.933333</td>\n",
       "      <td>0.282249</td>\n",
       "      <td>-0.717751</td>\n",
       "      <td>0.202584</td>\n",
       "      <td>0.581244</td>\n",
       "      <td>0.412876</td>\n",
       "    </tr>\n",
       "  </tbody>\n",
       "</table>\n",
       "</div>"
      ],
      "text/plain": [
       "    age  response  const  grad_0  hess_0       h_0   proba_0    grad_1  \\\n",
       "0    23         0    0.5     0.5    0.25 -0.933333  0.282249  0.282249   \n",
       "1    45         0    0.5     0.5    0.25 -0.933333  0.282249  0.282249   \n",
       "2    44         0    0.5     0.5    0.25 -0.933333  0.282249  0.282249   \n",
       "3    20         0    0.5     0.5    0.25 -0.933333  0.282249  0.282249   \n",
       "4    49         0    0.5     0.5    0.25 -0.933333  0.282249  0.282249   \n",
       "5    56         1    0.5    -0.5    0.25  0.400000  0.598688 -0.401312   \n",
       "6    55         1    0.5    -0.5    0.25  0.400000  0.598688 -0.401312   \n",
       "7    43         1    0.5    -0.5    0.25 -0.933333  0.282249 -0.717751   \n",
       "8    23         0    0.5     0.5    0.25 -0.933333  0.282249  0.282249   \n",
       "9    67         0    0.5     0.5    0.25  0.400000  0.598688  0.598688   \n",
       "10   54         0    0.5     0.5    0.25 -0.933333  0.282249  0.282249   \n",
       "11   43         0    0.5     0.5    0.25 -0.933333  0.282249  0.282249   \n",
       "12   22         0    0.5     0.5    0.25 -0.933333  0.282249  0.282249   \n",
       "13   25         0    0.5     0.5    0.25 -0.933333  0.282249  0.282249   \n",
       "14   47         0    0.5     0.5    0.25 -0.933333  0.282249  0.282249   \n",
       "15   36         1    0.5    -0.5    0.25 -0.933333  0.282249 -0.717751   \n",
       "16   20         1    0.5    -0.5    0.25 -0.933333  0.282249 -0.717751   \n",
       "17   56         1    0.5    -0.5    0.25  0.400000  0.598688 -0.401312   \n",
       "18   56         0    0.5     0.5    0.25  0.400000  0.598688  0.598688   \n",
       "19   34         1    0.5    -0.5    0.25 -0.933333  0.282249 -0.717751   \n",
       "\n",
       "      hess_1       h_1   proba_1  \n",
       "0   0.202584  0.581244  0.412876  \n",
       "1   0.202584 -0.624390  0.173974  \n",
       "2   0.202584 -0.624390  0.173974  \n",
       "3   0.202584  0.581244  0.412876  \n",
       "4   0.202584 -0.624390  0.173974  \n",
       "5   0.240261 -0.624390  0.444137  \n",
       "6   0.240261 -0.624390  0.444137  \n",
       "7   0.202584  0.581244  0.412876  \n",
       "8   0.202584  0.581244  0.412876  \n",
       "9   0.240261 -0.624390  0.444137  \n",
       "10  0.202584 -0.624390  0.173974  \n",
       "11  0.202584  0.581244  0.412876  \n",
       "12  0.202584  0.581244  0.412876  \n",
       "13  0.202584  0.581244  0.412876  \n",
       "14  0.202584 -0.624390  0.173974  \n",
       "15  0.202584  0.581244  0.412876  \n",
       "16  0.202584  0.581244  0.412876  \n",
       "17  0.240261 -0.624390  0.444137  \n",
       "18  0.240261 -0.624390  0.444137  \n",
       "19  0.202584  0.581244  0.412876  "
      ]
     },
     "execution_count": 87,
     "metadata": {},
     "output_type": "execute_result"
    }
   ],
   "source": [
    "df"
   ]
  },
  {
   "cell_type": "code",
   "execution_count": 88,
   "metadata": {},
   "outputs": [
    {
     "data": {
      "text/plain": [
       "<Axes: title={'center': 'Feature importance'}, xlabel='F score', ylabel='Features'>"
      ]
     },
     "execution_count": 88,
     "metadata": {},
     "output_type": "execute_result"
    },
    {
     "data": {
      "image/png": "[encoded data removed]",
      "text/plain": [
       "<Figure size 640x480 with 1 Axes>"
      ]
     },
     "metadata": {
      "image/png": {
       "height": 454,
       "width": 720
      }
     },
     "output_type": "display_data"
    }
   ],
   "source": [
    "xgboost.plot_importance(model, importance_type='total_cover')"
   ]
  },
  {
   "cell_type": "code",
   "execution_count": 91,
   "metadata": {},
   "outputs": [],
   "source": [
    "total_cover = (sum(df['const'] * (1 - df['const']))) + (\n",
    "    sum(df['proba_0'] * (1 - df['proba_0']))\n",
    ")"
   ]
  },
  {
   "cell_type": "code",
   "execution_count": 95,
   "metadata": {},
   "outputs": [
    {
     "data": {
      "text/plain": [
       "9.240070886423663"
      ]
     },
     "execution_count": 95,
     "metadata": {},
     "output_type": "execute_result"
    }
   ],
   "source": [
    "total_cover"
   ]
  },
  {
   "cell_type": "code",
   "execution_count": 96,
   "metadata": {},
   "outputs": [],
   "source": [
    "G_total2 = df['grad_1'].sum()\n",
    "H_total2 = df['hess_1'].sum()"
   ]
  },
  {
   "cell_type": "code",
   "execution_count": 97,
   "metadata": {},
   "outputs": [
    {
     "data": {
      "text/plain": [
       "1.6666666666666667"
      ]
     },
     "execution_count": 97,
     "metadata": {},
     "output_type": "execute_result"
    }
   ],
   "source": [
    "gamma = 0\n",
    "score_left = (G_left ** 2) / (H_left + lambda_)\n",
    "score_right = (G_right ** 2) / (H_right + lambda_)\n",
    "G_total = df['grad_0'].sum()\n",
    "H_total = df['hess_0'].sum()\n",
    "score_total = (G_total ** 2) / (H_total + lambda_)\n",
    "gain_split = (score_left + score_right) - score_total - gamma\n",
    "gain_split"
   ]
  },
  {
   "cell_type": "code",
   "execution_count": 98,
   "metadata": {},
   "outputs": [
    {
     "data": {
      "text/plain": [
       "3.2300334776469755"
      ]
     },
     "execution_count": 98,
     "metadata": {},
     "output_type": "execute_result"
    }
   ],
   "source": [
    "gamma = 0\n",
    "score_total2 = (G_total2 ** 2) / (H_total2 + lambda_)\n",
    "score_left2 = (G_left2 ** 2) / (H_left2 + lambda_)\n",
    "score_right2 = (G_right2 ** 2) / (H_right2 + lambda_)\n",
    "gain_split2 = (score_left2 + score_right2) - score_total2 - gamma\n",
    "total_gain = gain_split + gain_split2\n",
    "total_gain"
   ]
  },
  {
   "cell_type": "code",
   "execution_count": 99,
   "metadata": {},
   "outputs": [],
   "source": [
    "gain = (gain_split + gain_split2) / 2"
   ]
  },
  {
   "cell_type": "code",
   "execution_count": 100,
   "metadata": {},
   "outputs": [
    {
     "data": {
      "text/plain": [
       "1.6150167388234877"
      ]
     },
     "execution_count": 100,
     "metadata": {},
     "output_type": "execute_result"
    }
   ],
   "source": [
    "gain"
   ]
  },
  {
   "cell_type": "code",
   "execution_count": 101,
   "metadata": {},
   "outputs": [
    {
     "data": {
      "text/plain": [
       "{'age': 9.240070343017578}"
      ]
     },
     "execution_count": 101,
     "metadata": {},
     "output_type": "execute_result"
    }
   ],
   "source": [
    "model.get_score(importance_type='total_cover')"
   ]
  },
  {
   "cell_type": "code",
   "execution_count": 102,
   "metadata": {},
   "outputs": [
    {
     "data": {
      "text/plain": [
       "{'age': 4.620035171508789}"
      ]
     },
     "execution_count": 102,
     "metadata": {},
     "output_type": "execute_result"
    }
   ],
   "source": [
    "model.get_score(importance_type='cover')"
   ]
  },
  {
   "cell_type": "code",
   "execution_count": 103,
   "metadata": {},
   "outputs": [
    {
     "data": {
      "text/plain": [
       "{'age': 3.2300333976745605}"
      ]
     },
     "execution_count": 103,
     "metadata": {},
     "output_type": "execute_result"
    }
   ],
   "source": [
    "model.get_score(importance_type='total_gain')"
   ]
  },
  {
   "cell_type": "code",
   "execution_count": 104,
   "metadata": {},
   "outputs": [
    {
     "data": {
      "text/plain": [
       "{'age': 1.6150166988372803}"
      ]
     },
     "execution_count": 104,
     "metadata": {},
     "output_type": "execute_result"
    }
   ],
   "source": [
    "model.get_score(importance_type='gain')"
   ]
  },
  {
   "cell_type": "code",
   "execution_count": 105,
   "metadata": {},
   "outputs": [
    {
     "data": {
      "text/plain": [
       "{'age': 2.0}"
      ]
     },
     "execution_count": 105,
     "metadata": {},
     "output_type": "execute_result"
    }
   ],
   "source": [
    "model.get_score(importance_type='weight')"
   ]
  },
  {
   "cell_type": "code",
   "execution_count": 106,
   "metadata": {},
   "outputs": [],
   "source": [
    "params = {\n",
    "    'max_depth': 1,\n",
    "    'eta': 1.0,\n",
    "    'objective': 'binary:logistic',\n",
    "    'lambda':0,\n",
    "    'seed':42,\n",
    "    'base_score':.3\n",
    "}"
   ]
  },
  {
   "cell_type": "code",
   "execution_count": 107,
   "metadata": {},
   "outputs": [],
   "source": [
    "model = xgboost.train(params=params, num_boost_round=2, dtrain= dtrain)"
   ]
  },
  {
   "cell_type": "code",
   "execution_count": 108,
   "metadata": {},
   "outputs": [],
   "source": [
    "pr = model.predict(dtrain)"
   ]
  },
  {
   "cell_type": "code",
   "execution_count": 109,
   "metadata": {},
   "outputs": [
    {
     "data": {
      "text/plain": [
       "array([0.41786543, 0.15039323, 0.15039323, 0.41786543, 0.15039323,\n",
       "       0.4640077 , 0.4640077 , 0.41786543, 0.41786543, 0.4640077 ,\n",
       "       0.15039323, 0.41786543, 0.41786543, 0.41786543, 0.15039323,\n",
       "       0.41786543, 0.41786543, 0.4640077 , 0.4640077 , 0.41786543],\n",
       "      dtype=float32)"
      ]
     },
     "execution_count": 109,
     "metadata": {},
     "output_type": "execute_result"
    }
   ],
   "source": [
    "pr"
   ]
  },
  {
   "cell_type": "code",
   "execution_count": 110,
   "metadata": {},
   "outputs": [
    {
     "name": "stdout",
     "output_type": "stream",
     "text": [
      "0:[age<55] yes=1,no=2,missing=2\n",
      "\t1:leaf=-0.158730209\n",
      "\t2:leaf=1.42857134\n",
      "\n",
      "0:[age<44] yes=1,no=2,missing=2\n",
      "\t1:leaf=0.674485743\n",
      "\t2:leaf=-0.72549212\n",
      "\n"
     ]
    }
   ],
   "source": [
    "for line in model.get_dump():\n",
    "    print(line)"
   ]
  },
  {
   "cell_type": "code",
   "execution_count": 111,
   "metadata": {},
   "outputs": [],
   "source": [
    "base_score = .3\n",
    "leaf_weight_for_less_than_55 = -0.158730209\n",
    "leaf_weight_for_55_and_more = 1.42857134"
   ]
  },
  {
   "cell_type": "code",
   "execution_count": 112,
   "metadata": {},
   "outputs": [],
   "source": [
    "leaf_weight_for_less_than_44 = 0.674485743\n",
    "leaf_weight_for_44_and_more = -0.72549212"
   ]
  },
  {
   "cell_type": "code",
   "execution_count": 113,
   "metadata": {},
   "outputs": [],
   "source": [
    "prediction_for_obs_0 = sigmoid(\n",
    "    np.log(base_score / (1 - base_score)) + (leaf_weight_for_less_than_55 + leaf_weight_for_less_than_44)\n",
    ")"
   ]
  },
  {
   "cell_type": "code",
   "execution_count": 114,
   "metadata": {},
   "outputs": [],
   "source": [
    "prediction_for_obs_1 = sigmoid(\n",
    "    np.log(base_score / (1 - base_score)) + (leaf_weight_for_less_than_55 + leaf_weight_for_44_and_more)\n",
    ")"
   ]
  },
  {
   "cell_type": "code",
   "execution_count": 115,
   "metadata": {},
   "outputs": [
    {
     "data": {
      "text/plain": [
       "0.4178653987797429"
      ]
     },
     "execution_count": 115,
     "metadata": {},
     "output_type": "execute_result"
    }
   ],
   "source": [
    "prediction_for_obs_0"
   ]
  },
  {
   "cell_type": "code",
   "execution_count": 116,
   "metadata": {},
   "outputs": [
    {
     "data": {
      "text/plain": [
       "0.1503932341296568"
      ]
     },
     "execution_count": 116,
     "metadata": {},
     "output_type": "execute_result"
    }
   ],
   "source": [
    "prediction_for_obs_1"
   ]
  },
  {
   "cell_type": "code",
   "execution_count": 121,
   "metadata": {},
   "outputs": [],
   "source": [
    "params = {\n",
    "    'max_depth': 1,\n",
    "    'eta': 0.5,\n",
    "    'objective': 'binary:logistic',\n",
    "    'lambda':0,\n",
    "    'seed':42,\n",
    "    'base_score':.3\n",
    "}\n",
    "model = xgboost.train(params=params, num_boost_round=2, dtrain= dtrain)"
   ]
  },
  {
   "cell_type": "code",
   "execution_count": 122,
   "metadata": {},
   "outputs": [],
   "source": [
    "model_info = model.get_dump()[0]"
   ]
  },
  {
   "cell_type": "code",
   "execution_count": 123,
   "metadata": {},
   "outputs": [
    {
     "data": {
      "text/plain": [
       "'0:[age<55] yes=1,no=2,missing=2\\n\\t1:leaf=-0.0793651044\\n\\t2:leaf=0.714285672\\n'"
      ]
     },
     "execution_count": 123,
     "metadata": {},
     "output_type": "execute_result"
    }
   ],
   "source": [
    "model_info"
   ]
  },
  {
   "cell_type": "code",
   "execution_count": 125,
   "metadata": {},
   "outputs": [
    {
     "data": {
      "text/plain": [
       "'0:[age<55] yes=1,no=2,missing=2\\n\\t1:leaf=-0.060240984\\n\\t2:leaf=0.365853637\\n'"
      ]
     },
     "execution_count": 125,
     "metadata": {},
     "output_type": "execute_result"
    }
   ],
   "source": [
    "params = {\n",
    "    'max_depth': 1,\n",
    "    'eta': 0.5,\n",
    "    'objective': 'binary:logistic',\n",
    "    'lambda':1.0,\n",
    "    'seed':42,\n",
    "    'base_score':.3\n",
    "}\n",
    "model = xgboost.train(params=params, num_boost_round=2, dtrain= dtrain)\n",
    "model_info = model.get_dump()[0]\n",
    "model_info"
   ]
  },
  {
   "cell_type": "code",
   "execution_count": null,
   "metadata": {},
   "outputs": [],
   "source": []
  }
 ],
 "metadata": {
  "kernelspec": {
   "display_name": ".venv",
   "language": "python",
   "name": "python3"
  },
  "language_info": {
   "codemirror_mode": {
    "name": "ipython",
    "version": 3
   },
   "file_extension": ".py",
   "mimetype": "text/x-python",
   "name": "python",
   "nbconvert_exporter": "python",
   "pygments_lexer": "ipython3",
   "version": "3.9.6"
  }
 },
 "nbformat": 4,
 "nbformat_minor": 2
}
