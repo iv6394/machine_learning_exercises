{
 "cells": [
  {
   "cell_type": "code",
   "execution_count": 7,
   "metadata": {},
   "outputs": [],
   "source": [
    "import numpy as np\n",
    "import pandas as pd\n",
    "from matplotlib import pyplot as plt\n",
    "%matplotlib inline \n",
    "%config InlineBackend.figure_format = 'retina'\n",
    "import graphviz\n",
    "from sklearn.model_selection import train_test_split\n",
    "from sklearn.base import BaseEstimator\n",
    "from sklearn.tree import DecisionTreeRegressor\n",
    "from sklearn.metrics import *\n",
    "from sklearn.tree import export_graphviz"
   ]
  },
  {
   "cell_type": "code",
   "execution_count": 8,
   "metadata": {},
   "outputs": [],
   "source": [
    "class SimpleGradientBoostingRegressor(BaseEstimator):\n",
    "\n",
    "    def mse_antigradient(self, y_hat, y_true):\n",
    "        return 2 * (y_true - y_hat)\n",
    "    \n",
    "    def mae_antigradient(self, y_hat, y_true):\n",
    "        return np.sign(y_true - y_hat)\n",
    "    \n",
    "    def rmsle_antigradient(self, y_true, y_hat):\n",
    "        eps = np.finfo(np.float64).eps\n",
    "        return np.log1p(y_true) - np.log1p(np.clip(y_hat, eps, None))\n",
    "    \n",
    "    def huber_antigradient(self, y_hat, y_true):\n",
    "\n",
    "        ath_quantile = self.ath_quantile\n",
    "        delta_huber = np.quantile(abs(y_true - y_hat), ath_quantile)\n",
    "        huber_vector = np.where(abs(y_true - y_hat) <= delta_huber, y_true - y_hat, delta_huber * np.sign(y_true - y_hat))\n",
    "\n",
    "        return huber_vector\n",
    "    \n",
    "    def __init__(self, n_estimators=100, learning_rate=.1, loss='mse',\n",
    "                        ath_quantile=None, constant='zero', max_depth=3,\n",
    "                        subsample=1.0, random_state=17, debug=True):\n",
    "        \n",
    "        self.n_estimators = n_estimators\n",
    "        self.learning_rate = learning_rate\n",
    "        self.loss = loss\n",
    "        self.ath_quantile = ath_quantile\n",
    "        self.constant = constant\n",
    "        self.max_depth = max_depth\n",
    "        self.subsample = subsample\n",
    "        self.random_state = random_state\n",
    "        self.debug = debug\n",
    "\n",
    "        self.trees = []\n",
    "        self.obj_by_iter = []\n",
    "\n",
    "        if self.debug:\n",
    "            self.pseudoresiduals = []\n",
    "            self.idx_sampled = []\n",
    "            self.tree_pred = []\n",
    "\n",
    "    def fit(self, X, y):\n",
    "        if self.constant == 'zero':\n",
    "            prediction = 0\n",
    "\n",
    "        if self.constant == 'mean':\n",
    "            prediction = np.mean(y)\n",
    "\n",
    "        if self.constant == 'median':\n",
    "            prediction = np.median(y)\n",
    "        \n",
    "        if self.debug:\n",
    "            self.const_pred = np.array([prediction] * len(X), float)\n",
    "\n",
    "        if self.loss == 'mse':\n",
    "            antigradient = self.mse_antigradient\n",
    "        elif self.loss == 'mae':\n",
    "            antigradient = self.mae_antigradient\n",
    "        elif self.loss == 'rmsle':\n",
    "            antigradient = self.rmsle_antigradient\n",
    "        elif self.loss == 'huber':\n",
    "            antigradient = self.huber_antigradient\n",
    "        \n",
    "        for iter_num in range(self.n_estimators):\n",
    "            pseudoresid = antigradient(prediction, y)\n",
    "\n",
    "            if self.debug:\n",
    "                self.pseudoresiduals.append(pseudoresid)\n",
    "\n",
    "            np.random.seed(iter_num)\n",
    "            idx = np.random.choice(X.shape[0],\n",
    "                                        int(self.subsample * X.shape[0]),\n",
    "                                        replace=False)\n",
    "            X_sampled = np.take(X, idx, axis=0)\n",
    "            pseudoresid_sampled = np.take(pseudoresid, idx, axis=0)\n",
    "\n",
    "            if self.debug:\n",
    "                self.idx_sampled.append(idx)\n",
    "\n",
    "            tree = DecisionTreeRegressor(max_depth=self.max_depth,\n",
    "                                            random_state=self.random_state)\n",
    "            tree.fit(X, pseudoresid)\n",
    "\n",
    "            pred = tree.predict(X)\n",
    "\n",
    "            if self.debug:\n",
    "                self.tree_pred.append(pred)\n",
    "\n",
    "            self.trees.append(tree)\n",
    "\n",
    "            prediction += self.learning_rate * tree.predict(X)\n",
    "\n",
    "            obj = mean_squared_error(y, prediction)\n",
    "            self.obj_by_iter.append(obj)\n",
    "        \n",
    "        return self\n",
    "\n",
    "    def predict(self, X):\n",
    "        if self.constant == 'zero':\n",
    "            pred = np.zeros(X.shape[0])\n",
    "\n",
    "        elif self.constant == 'mean':\n",
    "            pred = np.mean(y) * np.ones(X.shape[0])\n",
    "\n",
    "        elif self.constant == 'median':\n",
    "            pred = np.median(y) * np.ones(X.shape[0])\n",
    "\n",
    "        for iter_num in range(self.n_estimators):\n",
    "            pred += self.learning_rate * self.trees[iter_num].predict(X)\n",
    "\n",
    "        return pred"
   ]
  },
  {
   "cell_type": "code",
   "execution_count": 9,
   "metadata": {},
   "outputs": [],
   "source": [
    "data = pd.DataFrame({\n",
    "    'income':[1000, 30000,20000, 95000, 10000, 5000, 1200, 0, 0, 35000],\n",
    "    'target':[0, 0, 0.15, 0.05, 0, 1.5, 1.2, 0, 1, 0.5]\n",
    "})"
   ]
  },
  {
   "cell_type": "code",
   "execution_count": 10,
   "metadata": {},
   "outputs": [
    {
     "data": {
      "text/html": [
       "<div>\n",
       "<style scoped>\n",
       "    .dataframe tbody tr th:only-of-type {\n",
       "        vertical-align: middle;\n",
       "    }\n",
       "\n",
       "    .dataframe tbody tr th {\n",
       "        vertical-align: top;\n",
       "    }\n",
       "\n",
       "    .dataframe thead th {\n",
       "        text-align: right;\n",
       "    }\n",
       "</style>\n",
       "<table border=\"1\" class=\"dataframe\">\n",
       "  <thead>\n",
       "    <tr style=\"text-align: right;\">\n",
       "      <th></th>\n",
       "      <th>income</th>\n",
       "      <th>target</th>\n",
       "    </tr>\n",
       "  </thead>\n",
       "  <tbody>\n",
       "    <tr>\n",
       "      <th>0</th>\n",
       "      <td>1000</td>\n",
       "      <td>0.00</td>\n",
       "    </tr>\n",
       "    <tr>\n",
       "      <th>1</th>\n",
       "      <td>30000</td>\n",
       "      <td>0.00</td>\n",
       "    </tr>\n",
       "    <tr>\n",
       "      <th>2</th>\n",
       "      <td>20000</td>\n",
       "      <td>0.15</td>\n",
       "    </tr>\n",
       "    <tr>\n",
       "      <th>3</th>\n",
       "      <td>95000</td>\n",
       "      <td>0.05</td>\n",
       "    </tr>\n",
       "    <tr>\n",
       "      <th>4</th>\n",
       "      <td>10000</td>\n",
       "      <td>0.00</td>\n",
       "    </tr>\n",
       "    <tr>\n",
       "      <th>5</th>\n",
       "      <td>5000</td>\n",
       "      <td>1.50</td>\n",
       "    </tr>\n",
       "    <tr>\n",
       "      <th>6</th>\n",
       "      <td>1200</td>\n",
       "      <td>1.20</td>\n",
       "    </tr>\n",
       "    <tr>\n",
       "      <th>7</th>\n",
       "      <td>0</td>\n",
       "      <td>0.00</td>\n",
       "    </tr>\n",
       "    <tr>\n",
       "      <th>8</th>\n",
       "      <td>0</td>\n",
       "      <td>1.00</td>\n",
       "    </tr>\n",
       "    <tr>\n",
       "      <th>9</th>\n",
       "      <td>35000</td>\n",
       "      <td>0.50</td>\n",
       "    </tr>\n",
       "  </tbody>\n",
       "</table>\n",
       "</div>"
      ],
      "text/plain": [
       "   income  target\n",
       "0    1000    0.00\n",
       "1   30000    0.00\n",
       "2   20000    0.15\n",
       "3   95000    0.05\n",
       "4   10000    0.00\n",
       "5    5000    1.50\n",
       "6    1200    1.20\n",
       "7       0    0.00\n",
       "8       0    1.00\n",
       "9   35000    0.50"
      ]
     },
     "execution_count": 10,
     "metadata": {},
     "output_type": "execute_result"
    }
   ],
   "source": [
    "data"
   ]
  },
  {
   "cell_type": "code",
   "execution_count": 11,
   "metadata": {},
   "outputs": [],
   "source": [
    "y = data.pop('target').values\n",
    "feat_labels = data.columns\n",
    "X = data.values"
   ]
  },
  {
   "cell_type": "code",
   "execution_count": 12,
   "metadata": {},
   "outputs": [
    {
     "data": {
      "text/plain": [
       "array([[ 1000],\n",
       "       [30000],\n",
       "       [20000],\n",
       "       [95000],\n",
       "       [10000],\n",
       "       [ 5000],\n",
       "       [ 1200],\n",
       "       [    0],\n",
       "       [    0],\n",
       "       [35000]])"
      ]
     },
     "execution_count": 12,
     "metadata": {},
     "output_type": "execute_result"
    }
   ],
   "source": [
    "X"
   ]
  },
  {
   "cell_type": "code",
   "execution_count": 13,
   "metadata": {},
   "outputs": [],
   "source": [
    "boost = SimpleGradientBoostingRegressor(\n",
    "    n_estimators=2, learning_rate=.8,\n",
    "    constant='mean', loss='mse',\n",
    "    max_depth=1, random_state=42\n",
    ")"
   ]
  },
  {
   "cell_type": "code",
   "execution_count": 14,
   "metadata": {},
   "outputs": [
    {
     "data": {
      "text/plain": [
       "SimpleGradientBoostingRegressor(constant='mean', learning_rate=0.8, max_depth=1,\n",
       "                                n_estimators=2, random_state=42)"
      ]
     },
     "execution_count": 14,
     "metadata": {},
     "output_type": "execute_result"
    }
   ],
   "source": [
    "boost.fit(X, y)"
   ]
  },
  {
   "cell_type": "code",
   "execution_count": 15,
   "metadata": {},
   "outputs": [
    {
     "data": {
      "text/plain": [
       "array([-0.01866667,  0.36228571,  0.36228571,  0.36228571,  0.36228571,\n",
       "        1.32228571,  1.32228571, -0.01866667, -0.01866667,  0.36228571])"
      ]
     },
     "execution_count": 15,
     "metadata": {},
     "output_type": "execute_result"
    }
   ],
   "source": [
    "pred = boost.predict(X)\n",
    "pred"
   ]
  },
  {
   "cell_type": "code",
   "execution_count": 16,
   "metadata": {},
   "outputs": [],
   "source": [
    "tree_0 = boost.trees[0]"
   ]
  },
  {
   "cell_type": "code",
   "execution_count": 17,
   "metadata": {},
   "outputs": [
    {
     "data": {
      "text/plain": [
       "DecisionTreeRegressor(max_depth=1, random_state=42)"
      ]
     },
     "execution_count": 17,
     "metadata": {},
     "output_type": "execute_result"
    }
   ],
   "source": [
    "tree_0"
   ]
  },
  {
   "cell_type": "code",
   "execution_count": null,
   "metadata": {},
   "outputs": [],
   "source": []
  }
 ],
 "metadata": {
  "kernelspec": {
   "display_name": "Python 3",
   "language": "python",
   "name": "python3"
  },
  "language_info": {
   "codemirror_mode": {
    "name": "ipython",
    "version": 3
   },
   "file_extension": ".py",
   "mimetype": "text/x-python",
   "name": "python",
   "nbconvert_exporter": "python",
   "pygments_lexer": "ipython3",
   "version": "3.9.6"
  },
  "orig_nbformat": 4
 },
 "nbformat": 4,
 "nbformat_minor": 2
}
